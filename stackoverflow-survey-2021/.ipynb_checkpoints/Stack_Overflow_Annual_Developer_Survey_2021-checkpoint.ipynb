{
 "cells": [
  {
   "cell_type": "markdown",
   "metadata": {},
   "source": [
    "# Project Title - Stack Overflow Annual Developer Survey 2021\n",
    "\n",
    "With over 70,000 responses fielded from over 180 countries, our Annual Developer Survey examines all aspects of the developer experience from learning to code to their favorite technologies to version control and the workplace experience of professional developers.The data set contains developers response to questions asked.\n",
    "\n",
    "visit **[here](https://insights.stackoverflow.com/survey?_ga=2.79970071.1811150685.1660001774-1348188930.1660001774)** to download dataset for analysis.\n",
    "\n",
    "In this notebook we will be doing an **Exploratory Data Analysis Using Python**. *Analyzing responses from the Stack Overfflow Developer Survey 2021*.\n",
    "![](https://i.imgur.com/qXhHKqv.png)\n",
    "> **Tools Used** \n",
    ">\n",
    "> - Pandas for Data Frames manipulations\n",
    "> - Matplotlib and seaboarn for visualizations\n"
   ]
  },
  {
   "cell_type": "markdown",
   "metadata": {},
   "source": [
    "### How to run the code\n",
    "\n",
    "This is an executable [*Jupyter notebook*](https://jupyter.org) hosted on [Jovian.ml](https://www.jovian.ml), a platform for sharing data science projects. You can run and experiment with the code in a couple of ways: *using free online resources* (recommended) or *on your own computer*.\n",
    "\n",
    "#### Option 1: Running using free online resources (1-click, recommended)\n",
    "\n",
    "The easiest way to start executing this notebook is to click the \"Run\" button at the top of this page, and select \"Run on Binder\". This will run the notebook on [mybinder.org](https://mybinder.org), a free online service for running Jupyter notebooks. You can also select \"Run on Colab\" or \"Run on Kaggle\".\n",
    "\n",
    "\n",
    "#### Option 2: Running on your computer locally\n",
    "\n",
    "1. Install Conda by [following these instructions](https://conda.io/projects/conda/en/latest/user-guide/install/index.html). Add Conda binaries to your system `PATH`, so you can use the `conda` command on your terminal.\n",
    "\n",
    "2. Create a Conda environment and install the required libraries by running these commands on the terminal:\n",
    "\n",
    "```\n",
    "conda create -n zerotopandas -y python=3.8 \n",
    "conda activate zerotopandas\n",
    "pip install jovian jupyter numpy pandas matplotlib seaborn opendatasets --upgrade\n",
    "```\n",
    "\n",
    "3. Press the \"Clone\" button above to copy the command for downloading the notebook, and run it on the terminal. This will create a new directory and download the notebook. The command will look something like this:\n",
    "\n",
    "```\n",
    "jovian clone notebook-owner/notebook-id\n",
    "```\n",
    "\n",
    "\n",
    "\n",
    "4. Enter the newly created directory using `cd directory-name` and start the Jupyter notebook.\n",
    "\n",
    "```\n",
    "jupyter notebook\n",
    "```\n",
    "\n",
    "You can now access Jupyter's web interface by clicking the link that shows up on the terminal or by visiting http://localhost:8888 on your browser. Click on the notebook file (it has a `.ipynb` extension) to open it.\n"
   ]
  },
  {
   "cell_type": "markdown",
   "metadata": {},
   "source": [
    "## Downloading the Dataset\n",
    "\n",
    "In this tutorial, we'll analyze the StackOverflow developer survey dataset. The dataset contains responses to an annual survey conducted by StackOverflow. You can find the raw data & official analysis here: https://insights.stackoverflow.com/survey.\n",
    "\n",
    "There are several options for getting the dataset into Jupyter:\n",
    "\n",
    "- Download the CSV manually and upload it via Jupyter's GUI\n",
    "- Use the `urlretrieve` function from the `urllib.request` to download CSV files from a raw URL\n",
    "- Use a helper library, e.g., [`opendatasets`](https://github.com/JovianML/opendatasets), which contains a collection of curated datasets and provides a helper function for direct download.\n",
    "\n",
    "We'll use the `opendatasets` helper library to download the files."
   ]
  },
  {
   "cell_type": "code",
   "execution_count": 4,
   "metadata": {
    "scrolled": false
   },
   "outputs": [
    {
     "name": "stdout",
     "output_type": "stream",
     "text": [
      "Requirement already satisfied: opendatasets in c:\\users\\master\\anaconda3\\new folder\\lib\\site-packages (0.1.22)\n",
      "Requirement already satisfied: click in c:\\users\\master\\anaconda3\\new folder\\lib\\site-packages (from opendatasets) (7.1.2)\n",
      "Requirement already satisfied: tqdm in c:\\users\\master\\anaconda3\\new folder\\lib\\site-packages (from opendatasets) (4.50.2)\n",
      "Requirement already satisfied: kaggle in c:\\users\\master\\anaconda3\\new folder\\lib\\site-packages (from opendatasets) (1.5.12)\n",
      "Requirement already satisfied: six>=1.10 in c:\\users\\master\\anaconda3\\new folder\\lib\\site-packages (from kaggle->opendatasets) (1.15.0)\n",
      "Requirement already satisfied: python-slugify in c:\\users\\master\\anaconda3\\new folder\\lib\\site-packages (from kaggle->opendatasets) (6.1.2)\n",
      "Requirement already satisfied: urllib3 in c:\\users\\master\\anaconda3\\new folder\\lib\\site-packages (from kaggle->opendatasets) (1.25.11)\n",
      "Requirement already satisfied: requests in c:\\users\\master\\anaconda3\\new folder\\lib\\site-packages (from kaggle->opendatasets) (2.24.0)\n",
      "Requirement already satisfied: certifi in c:\\users\\master\\anaconda3\\new folder\\lib\\site-packages (from kaggle->opendatasets) (2020.6.20)\n",
      "Requirement already satisfied: python-dateutil in c:\\users\\master\\anaconda3\\new folder\\lib\\site-packages (from kaggle->opendatasets) (2.8.1)\n",
      "Requirement already satisfied: text-unidecode>=1.3 in c:\\users\\master\\anaconda3\\new folder\\lib\\site-packages (from python-slugify->kaggle->opendatasets) (1.3)\n",
      "Requirement already satisfied: chardet<4,>=3.0.2 in c:\\users\\master\\anaconda3\\new folder\\lib\\site-packages (from requests->kaggle->opendatasets) (3.0.4)\n",
      "Requirement already satisfied: idna<3,>=2.5 in c:\\users\\master\\anaconda3\\new folder\\lib\\site-packages (from requests->kaggle->opendatasets) (2.10)\n"
     ]
    }
   ],
   "source": [
    "\"\"\"Already installed in pc\"\"\"\n",
    "\n",
    "!pip install opendatasets"
   ]
  },
  {
   "cell_type": "code",
   "execution_count": 1,
   "metadata": {},
   "outputs": [],
   "source": [
    "import opendatasets as od"
   ]
  },
  {
   "cell_type": "code",
   "execution_count": 5,
   "metadata": {},
   "outputs": [
    {
     "name": "stderr",
     "output_type": "stream",
     "text": [
      "\r",
      "  0%|                                                                                      | 0.00/8.58M [00:00<?, ?B/s]"
     ]
    },
    {
     "name": "stdout",
     "output_type": "stream",
     "text": [
      "Downloading stack-overflow-annual-developer-survey-2021.zip to .\\stack-overflow-annual-developer-survey-2021\n"
     ]
    },
    {
     "name": "stderr",
     "output_type": "stream",
     "text": [
      "100%|██████████████████████████████████████████████████████████████████████████████| 8.58M/8.58M [00:16<00:00, 536kB/s]"
     ]
    },
    {
     "name": "stdout",
     "output_type": "stream",
     "text": [
      "\n"
     ]
    },
    {
     "name": "stderr",
     "output_type": "stream",
     "text": [
      "\n"
     ]
    }
   ],
   "source": [
    "url = 'https://www.kaggle.com/datasets/ruchi798/stack-overflow-annual-developer-survey-2021/download?datasetVersionNumber=2'\n",
    "od.download(url)"
   ]
  },
  {
   "cell_type": "markdown",
   "metadata": {},
   "source": [
    "Let's verify that the dataset was downloaded into the directory `stackoverflow-developer-survey-2021` and retrieve the list of files in the dataset."
   ]
  },
  {
   "cell_type": "code",
   "execution_count": 2,
   "metadata": {},
   "outputs": [],
   "source": [
    "import os"
   ]
  },
  {
   "cell_type": "code",
   "execution_count": 3,
   "metadata": {},
   "outputs": [
    {
     "data": {
      "text/plain": [
       "['survey_results_questions.csv', 'survey_results_responses.csv']"
      ]
     },
     "execution_count": 3,
     "metadata": {},
     "output_type": "execute_result"
    }
   ],
   "source": [
    "os.listdir('stack-overflow-annual-developer-survey-2021')"
   ]
  },
  {
   "cell_type": "markdown",
   "metadata": {},
   "source": [
    "You can through the downloaded files using the \"File\" > \"Open\" menu option in Jupyter. It seems like the dataset contains two files:\n",
    "\n",
    "- `survey_results_questions.csv` - The list of questions, and shortcodes for each question\n",
    "- `survey_results_responses.csv` - The full list of responses to the questions \n",
    "\n",
    "Let's load the CSV files using the Pandas library. We'll use the name `survey_raw_df` for the data frame to indicate this is unprocessed data that we might clean, filter, and modify to prepare a data frame ready for analysis."
   ]
  },
  {
   "cell_type": "code",
   "execution_count": 4,
   "metadata": {},
   "outputs": [
    {
     "name": "stdout",
     "output_type": "stream",
     "text": [
      "Requirement already satisfied: jovian in c:\\programdata\\anaconda3\\lib\\site-packages (0.2.41)\n",
      "Requirement already satisfied: pyyaml in c:\\programdata\\anaconda3\\lib\\site-packages (from jovian) (5.3.1)\n",
      "Requirement already satisfied: uuid in c:\\programdata\\anaconda3\\lib\\site-packages (from jovian) (1.30)\n",
      "Requirement already satisfied: requests in c:\\programdata\\anaconda3\\lib\\site-packages (from jovian) (2.24.0)\n",
      "Requirement already satisfied: click in c:\\programdata\\anaconda3\\lib\\site-packages (from jovian) (7.1.2)\n",
      "Requirement already satisfied: chardet<4,>=3.0.2 in c:\\programdata\\anaconda3\\lib\\site-packages (from requests->jovian) (3.0.4)\n",
      "Requirement already satisfied: idna<3,>=2.5 in c:\\programdata\\anaconda3\\lib\\site-packages (from requests->jovian) (2.10)\n",
      "Requirement already satisfied: urllib3!=1.25.0,!=1.25.1,<1.26,>=1.21.1 in c:\\programdata\\anaconda3\\lib\\site-packages (from requests->jovian) (1.25.11)\n",
      "Requirement already satisfied: certifi>=2017.4.17 in c:\\programdata\\anaconda3\\lib\\site-packages (from requests->jovian) (2020.6.20)\n"
     ]
    }
   ],
   "source": [
    "# committing to account (already installed)\n",
    "!pip install jovian"
   ]
  },
  {
   "cell_type": "markdown",
   "metadata": {},
   "source": [
    "## Data Preparation and Cleaning\n",
    "\n",
    "While the survey responses contain a wealth of information, we'll create our analysis to the following areas:\n",
    "\n",
    "- Key territories\n",
    "- Distribution of programming skills, experience, and preferences\n",
    "- Employment-related information, preferences, and opinions\n",
    "- Demographics of the survey respondents and the global programming community\n",
    "\n",
    "Let's select a subset of columns with the relevant data for our analysis."
   ]
  },
  {
   "cell_type": "code",
   "execution_count": 4,
   "metadata": {},
   "outputs": [],
   "source": [
    "import pandas as pd"
   ]
  },
  {
   "cell_type": "code",
   "execution_count": 5,
   "metadata": {},
   "outputs": [],
   "source": [
    "survey_raw_df = pd.read_csv('stack-overflow-annual-developer-survey-2021/survey_results_responses.csv')"
   ]
  },
  {
   "cell_type": "code",
   "execution_count": 6,
   "metadata": {},
   "outputs": [
    {
     "data": {
      "text/html": [
       "<div>\n",
       "<style scoped>\n",
       "    .dataframe tbody tr th:only-of-type {\n",
       "        vertical-align: middle;\n",
       "    }\n",
       "\n",
       "    .dataframe tbody tr th {\n",
       "        vertical-align: top;\n",
       "    }\n",
       "\n",
       "    .dataframe thead th {\n",
       "        text-align: right;\n",
       "    }\n",
       "</style>\n",
       "<table border=\"1\" class=\"dataframe\">\n",
       "  <thead>\n",
       "    <tr style=\"text-align: right;\">\n",
       "      <th></th>\n",
       "      <th>ResponseId</th>\n",
       "      <th>MainBranch</th>\n",
       "      <th>Employment</th>\n",
       "      <th>Country</th>\n",
       "      <th>US_State</th>\n",
       "      <th>UK_Country</th>\n",
       "      <th>EdLevel</th>\n",
       "      <th>Age1stCode</th>\n",
       "      <th>LearnCode</th>\n",
       "      <th>YearsCode</th>\n",
       "      <th>...</th>\n",
       "      <th>Age</th>\n",
       "      <th>Gender</th>\n",
       "      <th>Trans</th>\n",
       "      <th>Sexuality</th>\n",
       "      <th>Ethnicity</th>\n",
       "      <th>Accessibility</th>\n",
       "      <th>MentalHealth</th>\n",
       "      <th>SurveyLength</th>\n",
       "      <th>SurveyEase</th>\n",
       "      <th>ConvertedCompYearly</th>\n",
       "    </tr>\n",
       "  </thead>\n",
       "  <tbody>\n",
       "    <tr>\n",
       "      <th>83436</th>\n",
       "      <td>83437</td>\n",
       "      <td>I am a developer by profession</td>\n",
       "      <td>Employed full-time</td>\n",
       "      <td>United States of America</td>\n",
       "      <td>New Jersey</td>\n",
       "      <td>NaN</td>\n",
       "      <td>Secondary school (e.g. American high school, G...</td>\n",
       "      <td>11 - 17 years</td>\n",
       "      <td>School</td>\n",
       "      <td>10</td>\n",
       "      <td>...</td>\n",
       "      <td>25-34 years old</td>\n",
       "      <td>Man</td>\n",
       "      <td>No</td>\n",
       "      <td>NaN</td>\n",
       "      <td>White or of European descent</td>\n",
       "      <td>None of the above</td>\n",
       "      <td>None of the above</td>\n",
       "      <td>Appropriate in length</td>\n",
       "      <td>Neither easy nor difficult</td>\n",
       "      <td>90000.0</td>\n",
       "    </tr>\n",
       "    <tr>\n",
       "      <th>83437</th>\n",
       "      <td>83438</td>\n",
       "      <td>I am a developer by profession</td>\n",
       "      <td>Employed full-time</td>\n",
       "      <td>Canada</td>\n",
       "      <td>NaN</td>\n",
       "      <td>NaN</td>\n",
       "      <td>Bachelor’s degree (B.A., B.S., B.Eng., etc.)</td>\n",
       "      <td>11 - 17 years</td>\n",
       "      <td>Online Courses or Certification;Books / Physic...</td>\n",
       "      <td>5</td>\n",
       "      <td>...</td>\n",
       "      <td>25-34 years old</td>\n",
       "      <td>Man</td>\n",
       "      <td>No</td>\n",
       "      <td>Straight / Heterosexual</td>\n",
       "      <td>White or of European descent</td>\n",
       "      <td>None of the above</td>\n",
       "      <td>I have a mood or emotional disorder (e.g. depr...</td>\n",
       "      <td>Appropriate in length</td>\n",
       "      <td>Neither easy nor difficult</td>\n",
       "      <td>816816.0</td>\n",
       "    </tr>\n",
       "    <tr>\n",
       "      <th>83438</th>\n",
       "      <td>83439</td>\n",
       "      <td>I am a developer by profession</td>\n",
       "      <td>Employed full-time</td>\n",
       "      <td>Brazil</td>\n",
       "      <td>NaN</td>\n",
       "      <td>NaN</td>\n",
       "      <td>Professional degree (JD, MD, etc.)</td>\n",
       "      <td>11 - 17 years</td>\n",
       "      <td>School</td>\n",
       "      <td>14</td>\n",
       "      <td>...</td>\n",
       "      <td>18-24 years old</td>\n",
       "      <td>Man</td>\n",
       "      <td>No</td>\n",
       "      <td>Straight / Heterosexual</td>\n",
       "      <td>Hispanic or Latino/a/x</td>\n",
       "      <td>None of the above</td>\n",
       "      <td>None of the above</td>\n",
       "      <td>Appropriate in length</td>\n",
       "      <td>Easy</td>\n",
       "      <td>21168.0</td>\n",
       "    </tr>\n",
       "  </tbody>\n",
       "</table>\n",
       "<p>3 rows × 48 columns</p>\n",
       "</div>"
      ],
      "text/plain": [
       "       ResponseId                      MainBranch          Employment  \\\n",
       "83436       83437  I am a developer by profession  Employed full-time   \n",
       "83437       83438  I am a developer by profession  Employed full-time   \n",
       "83438       83439  I am a developer by profession  Employed full-time   \n",
       "\n",
       "                        Country    US_State UK_Country  \\\n",
       "83436  United States of America  New Jersey        NaN   \n",
       "83437                    Canada         NaN        NaN   \n",
       "83438                    Brazil         NaN        NaN   \n",
       "\n",
       "                                                 EdLevel     Age1stCode  \\\n",
       "83436  Secondary school (e.g. American high school, G...  11 - 17 years   \n",
       "83437       Bachelor’s degree (B.A., B.S., B.Eng., etc.)  11 - 17 years   \n",
       "83438                 Professional degree (JD, MD, etc.)  11 - 17 years   \n",
       "\n",
       "                                               LearnCode YearsCode  ...  \\\n",
       "83436                                             School        10  ...   \n",
       "83437  Online Courses or Certification;Books / Physic...         5  ...   \n",
       "83438                                             School        14  ...   \n",
       "\n",
       "                   Age Gender Trans                Sexuality  \\\n",
       "83436  25-34 years old    Man    No                      NaN   \n",
       "83437  25-34 years old    Man    No  Straight / Heterosexual   \n",
       "83438  18-24 years old    Man    No  Straight / Heterosexual   \n",
       "\n",
       "                          Ethnicity      Accessibility  \\\n",
       "83436  White or of European descent  None of the above   \n",
       "83437  White or of European descent  None of the above   \n",
       "83438        Hispanic or Latino/a/x  None of the above   \n",
       "\n",
       "                                            MentalHealth  \\\n",
       "83436                                  None of the above   \n",
       "83437  I have a mood or emotional disorder (e.g. depr...   \n",
       "83438                                  None of the above   \n",
       "\n",
       "                SurveyLength                  SurveyEase ConvertedCompYearly  \n",
       "83436  Appropriate in length  Neither easy nor difficult             90000.0  \n",
       "83437  Appropriate in length  Neither easy nor difficult            816816.0  \n",
       "83438  Appropriate in length                        Easy             21168.0  \n",
       "\n",
       "[3 rows x 48 columns]"
      ]
     },
     "execution_count": 6,
     "metadata": {},
     "output_type": "execute_result"
    }
   ],
   "source": [
    "# Last 3 responses data frame\n",
    "\n",
    "survey_raw_df.tail(3)"
   ]
  },
  {
   "cell_type": "code",
   "execution_count": 7,
   "metadata": {},
   "outputs": [
    {
     "data": {
      "text/plain": [
       "(83439, 48)"
      ]
     },
     "execution_count": 7,
     "metadata": {},
     "output_type": "execute_result"
    }
   ],
   "source": [
    "survey_raw_df.shape"
   ]
  },
  {
   "cell_type": "markdown",
   "metadata": {},
   "source": [
    "The dataset contains over 80,000 responses to 48 questions (although many questions are optional). The responses have been anonymized to remove personally identifiable information, and each respondent has been assigned a randomized respondent ID.\n",
    "\n",
    "Let's view the list of columns in the data frame. "
   ]
  },
  {
   "cell_type": "code",
   "execution_count": 8,
   "metadata": {
    "scrolled": true
   },
   "outputs": [
    {
     "data": {
      "text/plain": [
       "Index(['ResponseId', 'MainBranch', 'Employment', 'Country', 'US_State',\n",
       "       'UK_Country', 'EdLevel', 'Age1stCode', 'LearnCode', 'YearsCode',\n",
       "       'YearsCodePro', 'DevType', 'OrgSize', 'Currency', 'CompTotal',\n",
       "       'CompFreq', 'LanguageHaveWorkedWith', 'LanguageWantToWorkWith',\n",
       "       'DatabaseHaveWorkedWith', 'DatabaseWantToWorkWith',\n",
       "       'PlatformHaveWorkedWith', 'PlatformWantToWorkWith',\n",
       "       'WebframeHaveWorkedWith', 'WebframeWantToWorkWith',\n",
       "       'MiscTechHaveWorkedWith', 'MiscTechWantToWorkWith',\n",
       "       'ToolsTechHaveWorkedWith', 'ToolsTechWantToWorkWith',\n",
       "       'NEWCollabToolsHaveWorkedWith', 'NEWCollabToolsWantToWorkWith',\n",
       "       'OperatingSystem', 'NEWStuck', 'NEWSOSites', 'SOVisitFreq', 'SOAccount',\n",
       "       'SOPartFreq', 'SOComm', 'NEWOtherComms', 'Age', 'Gender', 'Trans',\n",
       "       'Sexuality', 'Ethnicity', 'Accessibility', 'MentalHealth',\n",
       "       'SurveyLength', 'SurveyEase', 'ConvertedCompYearly'],\n",
       "      dtype='object')"
      ]
     },
     "execution_count": 8,
     "metadata": {},
     "output_type": "execute_result"
    }
   ],
   "source": [
    "survey_raw_df.columns"
   ]
  },
  {
   "cell_type": "markdown",
   "metadata": {},
   "source": [
    "It appears that shortcodes for questions have been used as column names. \n",
    "\n",
    "We can refer to the question file to see the full text of each question. The question file contains 6 columns: `qid`,`qname`,`question`,`force_resp`,`type` and `selector`. We can load it as Pandas Series with `qname` as the index and the  `question` as the value."
   ]
  },
  {
   "cell_type": "code",
   "execution_count": 9,
   "metadata": {},
   "outputs": [],
   "source": [
    "question_fname = 'stack-overflow-annual-developer-survey-2021/survey_results_questions.csv'\n",
    "question_raw = pd.read_csv(question_fname,index_col = 'qname').question"
   ]
  },
  {
   "cell_type": "code",
   "execution_count": 10,
   "metadata": {},
   "outputs": [
    {
     "data": {
      "text/plain": [
       "qname\n",
       "Database     Which database environments have you done exte...\n",
       "MiscTech     Which other frameworks and libraries have you ...\n",
       "YearsCode    Including any education, how many years have y...\n",
       "Name: question, dtype: object"
      ]
     },
     "execution_count": 10,
     "metadata": {},
     "output_type": "execute_result"
    }
   ],
   "source": [
    "# sample Questions\n",
    "question_raw.sample(3)"
   ]
  },
  {
   "cell_type": "markdown",
   "metadata": {},
   "source": [
    "We can now use `question_raw` to retrieve the full question text for any column in `survey_raw_df`."
   ]
  },
  {
   "cell_type": "code",
   "execution_count": 11,
   "metadata": {},
   "outputs": [
    {
     "data": {
      "text/plain": [
       "'Which other frameworks and libraries have you done extensive development work in over the past year, and which do you want to work in over the next year? (If you both worked with the framework and want to continue to do so, please check both boxes in that row.)'"
      ]
     },
     "execution_count": 11,
     "metadata": {},
     "output_type": "execute_result"
    }
   ],
   "source": [
    "question_raw['MiscTech']"
   ]
  },
  {
   "cell_type": "markdown",
   "metadata": {},
   "source": [
    "We've now loaded the dataset. We're ready to move on to the next step of preprocessing & cleaning the data for our analysis."
   ]
  },
  {
   "cell_type": "markdown",
   "metadata": {},
   "source": [
    "> Let's select a subset of columns with the relevant data for our analysis.\n",
    "\n",
    "*Note: Analysis isn't limited to `selected columns` alone.* "
   ]
  },
  {
   "cell_type": "code",
   "execution_count": 12,
   "metadata": {},
   "outputs": [],
   "source": [
    "selected_columns = [\n",
    "    # Key territories\n",
    "    'Country',\n",
    "    'US_State',\n",
    "    'UK_Country',\n",
    "    # Programming experience/Education\n",
    "    'MainBranch',\n",
    "    'Age1stCode',\n",
    "    'YearsCode',\n",
    "    'YearsCodePro',\n",
    "    'LearnCode',\n",
    "    'NEWOtherComms',\n",
    "    'NEWStuck',\n",
    "    # Employment\n",
    "    'Employment',\n",
    "    'DevType',\n",
    "    'OrgSize',\n",
    "    'CompTotal',\n",
    "    'CompFreq',\n",
    "    # Demographics\n",
    "    'Age',\n",
    "    'Gender',\n",
    "    'Sexuality',\n",
    "    'MentalHealth'\n",
    "]"
   ]
  },
  {
   "cell_type": "code",
   "execution_count": 13,
   "metadata": {},
   "outputs": [
    {
     "data": {
      "text/plain": [
       "19"
      ]
     },
     "execution_count": 13,
     "metadata": {},
     "output_type": "execute_result"
    }
   ],
   "source": [
    "len(selected_columns)"
   ]
  },
  {
   "cell_type": "markdown",
   "metadata": {},
   "source": [
    "Let's extract a copy of the data from these columns into a new data frame `survey_df`. We can continue to modify further without affecting the original data frame."
   ]
  },
  {
   "cell_type": "code",
   "execution_count": 14,
   "metadata": {},
   "outputs": [],
   "source": [
    "survey_df = survey_raw_df[selected_columns].copy()"
   ]
  },
  {
   "cell_type": "code",
   "execution_count": 15,
   "metadata": {},
   "outputs": [],
   "source": [
    "question = question_raw[selected_columns]"
   ]
  },
  {
   "cell_type": "code",
   "execution_count": 16,
   "metadata": {},
   "outputs": [
    {
     "data": {
      "text/plain": [
       "(83439, 19)"
      ]
     },
     "execution_count": 16,
     "metadata": {},
     "output_type": "execute_result"
    }
   ],
   "source": [
    "survey_df.shape"
   ]
  },
  {
   "cell_type": "code",
   "execution_count": 17,
   "metadata": {
    "scrolled": true
   },
   "outputs": [
    {
     "name": "stdout",
     "output_type": "stream",
     "text": [
      "<class 'pandas.core.frame.DataFrame'>\n",
      "RangeIndex: 83439 entries, 0 to 83438\n",
      "Data columns (total 19 columns):\n",
      " #   Column         Non-Null Count  Dtype  \n",
      "---  ------         --------------  -----  \n",
      " 0   Country        83439 non-null  object \n",
      " 1   US_State       14920 non-null  object \n",
      " 2   UK_Country     4418 non-null   object \n",
      " 3   MainBranch     83439 non-null  object \n",
      " 4   Age1stCode     83243 non-null  object \n",
      " 5   YearsCode      81641 non-null  object \n",
      " 6   YearsCodePro   61216 non-null  object \n",
      " 7   LearnCode      82963 non-null  object \n",
      " 8   NEWOtherComms  82828 non-null  object \n",
      " 9   NEWStuck       83052 non-null  object \n",
      " 10  Employment     83323 non-null  object \n",
      " 11  DevType        66484 non-null  object \n",
      " 12  OrgSize        60726 non-null  object \n",
      " 13  CompTotal      47183 non-null  float64\n",
      " 14  CompFreq       52150 non-null  object \n",
      " 15  Age            82407 non-null  object \n",
      " 16  Gender         82286 non-null  object \n",
      " 17  Sexuality      73366 non-null  object \n",
      " 18  MentalHealth   76920 non-null  object \n",
      "dtypes: float64(1), object(18)\n",
      "memory usage: 12.1+ MB\n"
     ]
    }
   ],
   "source": [
    "survey_df.info()"
   ]
  },
  {
   "cell_type": "markdown",
   "metadata": {},
   "source": [
    "Most columns have the data type `object`, either because they contain values of different types or contain empty values (`NaN`). It appears that some column contains some empty values since the Non-Null count for is lower than the total number of rows (83439). We'll need to deal with empty values and manually adjust the data type for each column on a case-by-case basis. \n",
    "\n",
    "Only one of the columns were detected as numeric columns (`CompTotal`), even though a few other columns have mostly "
   ]
  },
  {
   "cell_type": "code",
   "execution_count": 18,
   "metadata": {},
   "outputs": [
    {
     "data": {
      "text/plain": [
       "'Including any education, how many years have you been coding in total?'"
      ]
     },
     "execution_count": 18,
     "metadata": {},
     "output_type": "execute_result"
    }
   ],
   "source": [
    "question_raw['YearsCode']"
   ]
  },
  {
   "cell_type": "code",
   "execution_count": 19,
   "metadata": {},
   "outputs": [
    {
     "data": {
      "text/plain": [
       "array([nan, '7', '17', '3', '4', '6', '16', '12', '15', '10', '40', '9',\n",
       "       '26', '14', '39', '20', '8', '19', '5', 'Less than 1 year', '22',\n",
       "       '2', '1', '34', '21', '13', '25', '24', '30', '31', '18', '38',\n",
       "       'More than 50 years', '27', '41', '42', '35', '23', '28', '11',\n",
       "       '37', '44', '43', '36', '33', '45', '29', '50', '46', '32', '47',\n",
       "       '49', '48'], dtype=object)"
      ]
     },
     "execution_count": 19,
     "metadata": {},
     "output_type": "execute_result"
    }
   ],
   "source": [
    "survey_df.YearsCode.unique()"
   ]
  },
  {
   "cell_type": "code",
   "execution_count": 20,
   "metadata": {},
   "outputs": [
    {
     "data": {
      "text/plain": [
       "'NOT including education, how many years have you coded professionally (as a part of your work)?'"
      ]
     },
     "execution_count": 20,
     "metadata": {},
     "output_type": "execute_result"
    }
   ],
   "source": [
    "question_raw['YearsCodePro']"
   ]
  },
  {
   "cell_type": "code",
   "execution_count": 21,
   "metadata": {},
   "outputs": [
    {
     "data": {
      "text/plain": [
       "array([nan, '10', '4', '5', '6', '2', '30', '9', '18', '12', '21', '1',\n",
       "       '16', 'Less than 1 year', '15', '3', '35', '7', '8', '17', '14',\n",
       "       '26', '25', '20', '50', '34', '11', '24', '22', '13', '31', '23',\n",
       "       '39', '41', '27', '28', '19', '33', 'More than 50 years', '37',\n",
       "       '29', '32', '43', '40', '38', '45', '42', '46', '36', '44', '47',\n",
       "       '48', '49'], dtype=object)"
      ]
     },
     "execution_count": 21,
     "metadata": {},
     "output_type": "execute_result"
    }
   ],
   "source": [
    "survey_df.YearsCodePro.unique()"
   ]
  },
  {
   "cell_type": "code",
   "execution_count": 22,
   "metadata": {},
   "outputs": [
    {
     "data": {
      "text/plain": [
       "'What is your current total compensation (salary, bonuses, and perks, before taxes and deductions), in $? Please enter a whole number in the box below, without any punctuation. If you are paid hourly, please estimate an equivalent weekly, monthly, or yearly salary. If you prefer not to answer, please leave the box empty.'"
      ]
     },
     "execution_count": 22,
     "metadata": {},
     "output_type": "execute_result"
    }
   ],
   "source": [
    "question_raw['CompTotal']"
   ]
  },
  {
   "cell_type": "code",
   "execution_count": 23,
   "metadata": {},
   "outputs": [
    {
     "data": {
      "text/plain": [
       "array([4.800e+03,       nan, 4.200e+04, ..., 8.880e+04, 6.500e+01,\n",
       "       1.605e+05])"
      ]
     },
     "execution_count": 23,
     "metadata": {},
     "output_type": "execute_result"
    }
   ],
   "source": [
    "survey_df.CompTotal.unique()"
   ]
  },
  {
   "cell_type": "code",
   "execution_count": 24,
   "metadata": {},
   "outputs": [],
   "source": [
    "survey_df['CompTotal'] = pd.to_numeric(survey_df.CompTotal, errors='coerce')\n",
    "survey_df['YearsCode'] = pd.to_numeric(survey_df.YearsCode, errors='coerce')\n",
    "survey_df['YearsCodePro'] = pd.to_numeric(survey_df.YearsCodePro, errors='coerce')"
   ]
  },
  {
   "cell_type": "markdown",
   "metadata": {},
   "source": [
    "The gender column also allows for picking multiple options. We'll remove values containing more than one option to simplify our analysis."
   ]
  },
  {
   "cell_type": "code",
   "execution_count": 25,
   "metadata": {},
   "outputs": [
    {
     "data": {
      "text/plain": [
       "'Which of the following describe you, if any? Please check all that apply.'"
      ]
     },
     "execution_count": 25,
     "metadata": {},
     "output_type": "execute_result"
    }
   ],
   "source": [
    "question[\"Gender\"]"
   ]
  },
  {
   "cell_type": "code",
   "execution_count": 26,
   "metadata": {
    "scrolled": true
   },
   "outputs": [
    {
     "data": {
      "text/plain": [
       "Man                                                                                   74817\n",
       "Woman                                                                                  4120\n",
       "Prefer not to say                                                                      1442\n",
       "Non-binary, genderqueer, or gender non-conforming                                       690\n",
       "Or, in your own words:                                                                  413\n",
       "Man;Or, in your own words:                                                              268\n",
       "Man;Non-binary, genderqueer, or gender non-conforming                                   252\n",
       "Woman;Non-binary, genderqueer, or gender non-conforming                                 147\n",
       "Man;Woman                                                                                41\n",
       "Non-binary, genderqueer, or gender non-conforming;Or, in your own words:                 21\n",
       "Man;Woman;Non-binary, genderqueer, or gender non-conforming                              21\n",
       "Man;Woman;Non-binary, genderqueer, or gender non-conforming;Or, in your own words:       17\n",
       "Woman;Or, in your own words:                                                             16\n",
       "Man;Non-binary, genderqueer, or gender non-conforming;Or, in your own words:             11\n",
       "Woman;Non-binary, genderqueer, or gender non-conforming;Or, in your own words:            9\n",
       "Man;Woman;Or, in your own words:                                                          1\n",
       "Name: Gender, dtype: int64"
      ]
     },
     "execution_count": 26,
     "metadata": {},
     "output_type": "execute_result"
    }
   ],
   "source": [
    "survey_df[\"Gender\"].value_counts()"
   ]
  },
  {
   "cell_type": "code",
   "execution_count": 27,
   "metadata": {},
   "outputs": [],
   "source": [
    "import numpy as np"
   ]
  },
  {
   "cell_type": "code",
   "execution_count": 28,
   "metadata": {},
   "outputs": [],
   "source": [
    "survey_df.where(~(survey_df.Gender.str.contains(';', na=False)), np.nan, inplace=True)"
   ]
  },
  {
   "cell_type": "code",
   "execution_count": 29,
   "metadata": {},
   "outputs": [
    {
     "data": {
      "text/plain": [
       "Man                                                  74817\n",
       "Woman                                                 4120\n",
       "Prefer not to say                                     1442\n",
       "Non-binary, genderqueer, or gender non-conforming      690\n",
       "Or, in your own words:                                 413\n",
       "Name: Gender, dtype: int64"
      ]
     },
     "execution_count": 29,
     "metadata": {},
     "output_type": "execute_result"
    }
   ],
   "source": [
    "survey_df['Gender'].value_counts()"
   ]
  },
  {
   "cell_type": "markdown",
   "metadata": {},
   "source": [
    "We've now cleaned up and prepared the dataset for analysis. Let's take a look at a sample of rows from the data frame."
   ]
  },
  {
   "cell_type": "code",
   "execution_count": 30,
   "metadata": {},
   "outputs": [
    {
     "data": {
      "text/html": [
       "<div>\n",
       "<style scoped>\n",
       "    .dataframe tbody tr th:only-of-type {\n",
       "        vertical-align: middle;\n",
       "    }\n",
       "\n",
       "    .dataframe tbody tr th {\n",
       "        vertical-align: top;\n",
       "    }\n",
       "\n",
       "    .dataframe thead th {\n",
       "        text-align: right;\n",
       "    }\n",
       "</style>\n",
       "<table border=\"1\" class=\"dataframe\">\n",
       "  <thead>\n",
       "    <tr style=\"text-align: right;\">\n",
       "      <th></th>\n",
       "      <th>Country</th>\n",
       "      <th>US_State</th>\n",
       "      <th>UK_Country</th>\n",
       "      <th>MainBranch</th>\n",
       "      <th>Age1stCode</th>\n",
       "      <th>YearsCode</th>\n",
       "      <th>YearsCodePro</th>\n",
       "      <th>LearnCode</th>\n",
       "      <th>NEWOtherComms</th>\n",
       "      <th>NEWStuck</th>\n",
       "      <th>Employment</th>\n",
       "      <th>DevType</th>\n",
       "      <th>OrgSize</th>\n",
       "      <th>CompTotal</th>\n",
       "      <th>CompFreq</th>\n",
       "      <th>Age</th>\n",
       "      <th>Gender</th>\n",
       "      <th>Sexuality</th>\n",
       "      <th>MentalHealth</th>\n",
       "    </tr>\n",
       "  </thead>\n",
       "  <tbody>\n",
       "    <tr>\n",
       "      <th>47263</th>\n",
       "      <td>United States of America</td>\n",
       "      <td>Oregon</td>\n",
       "      <td>NaN</td>\n",
       "      <td>I am a developer by profession</td>\n",
       "      <td>11 - 17 years</td>\n",
       "      <td>30.0</td>\n",
       "      <td>27.0</td>\n",
       "      <td>Books / Physical media</td>\n",
       "      <td>No</td>\n",
       "      <td>Visit Stack Overflow;Go for a walk or other ph...</td>\n",
       "      <td>Employed full-time</td>\n",
       "      <td>Developer, front-end;Developer, full-stack;Dev...</td>\n",
       "      <td>20 to 99 employees</td>\n",
       "      <td>250000.0</td>\n",
       "      <td>Yearly</td>\n",
       "      <td>35-44 years old</td>\n",
       "      <td>Man</td>\n",
       "      <td>Straight / Heterosexual</td>\n",
       "      <td>None of the above</td>\n",
       "    </tr>\n",
       "    <tr>\n",
       "      <th>54200</th>\n",
       "      <td>India</td>\n",
       "      <td>NaN</td>\n",
       "      <td>NaN</td>\n",
       "      <td>I am a developer by profession</td>\n",
       "      <td>25 - 34 years</td>\n",
       "      <td>7.0</td>\n",
       "      <td>4.0</td>\n",
       "      <td>Colleague</td>\n",
       "      <td>No</td>\n",
       "      <td>Visit Stack Overflow;Google it</td>\n",
       "      <td>Employed full-time</td>\n",
       "      <td>Developer, mobile</td>\n",
       "      <td>20 to 99 employees</td>\n",
       "      <td>35000.0</td>\n",
       "      <td>Monthly</td>\n",
       "      <td>25-34 years old</td>\n",
       "      <td>Man</td>\n",
       "      <td>Bisexual</td>\n",
       "      <td>None of the above</td>\n",
       "    </tr>\n",
       "  </tbody>\n",
       "</table>\n",
       "</div>"
      ],
      "text/plain": [
       "                        Country US_State UK_Country  \\\n",
       "47263  United States of America   Oregon        NaN   \n",
       "54200                     India      NaN        NaN   \n",
       "\n",
       "                           MainBranch     Age1stCode  YearsCode  YearsCodePro  \\\n",
       "47263  I am a developer by profession  11 - 17 years       30.0          27.0   \n",
       "54200  I am a developer by profession  25 - 34 years        7.0           4.0   \n",
       "\n",
       "                    LearnCode NEWOtherComms  \\\n",
       "47263  Books / Physical media            No   \n",
       "54200               Colleague            No   \n",
       "\n",
       "                                                NEWStuck          Employment  \\\n",
       "47263  Visit Stack Overflow;Go for a walk or other ph...  Employed full-time   \n",
       "54200                     Visit Stack Overflow;Google it  Employed full-time   \n",
       "\n",
       "                                                 DevType             OrgSize  \\\n",
       "47263  Developer, front-end;Developer, full-stack;Dev...  20 to 99 employees   \n",
       "54200                                  Developer, mobile  20 to 99 employees   \n",
       "\n",
       "       CompTotal CompFreq              Age Gender                Sexuality  \\\n",
       "47263   250000.0   Yearly  35-44 years old    Man  Straight / Heterosexual   \n",
       "54200    35000.0  Monthly  25-34 years old    Man                 Bisexual   \n",
       "\n",
       "            MentalHealth  \n",
       "47263  None of the above  \n",
       "54200  None of the above  "
      ]
     },
     "execution_count": 30,
     "metadata": {},
     "output_type": "execute_result"
    }
   ],
   "source": [
    "survey_df.sample(2)"
   ]
  },
  {
   "cell_type": "markdown",
   "metadata": {},
   "source": [
    "## Exploratory Analysis and Visualization\n",
    "\n",
    "> - Before we ask questions about the survey responses, it would help to understand the respondents' demographics, i.e., country, age, gender, education level, employment level, etc. It's essential to explore these variables to understand how representative the survey is of the worldwide programming community. A survey of this scale generally tends to have some [selection bias](https://en.wikipedia.org/wiki/Selection_bias).\n",
    "\n",
    "Let's begin by importing `matplotlib.pyplot` and `seaborn`.\n"
   ]
  },
  {
   "cell_type": "markdown",
   "metadata": {},
   "source": [
    "> Let's now view some basic statistics about numeric columns."
   ]
  },
  {
   "cell_type": "code",
   "execution_count": 32,
   "metadata": {},
   "outputs": [
    {
     "data": {
      "text/html": [
       "<div>\n",
       "<style scoped>\n",
       "    .dataframe tbody tr th:only-of-type {\n",
       "        vertical-align: middle;\n",
       "    }\n",
       "\n",
       "    .dataframe tbody tr th {\n",
       "        vertical-align: top;\n",
       "    }\n",
       "\n",
       "    .dataframe thead th {\n",
       "        text-align: right;\n",
       "    }\n",
       "</style>\n",
       "<table border=\"1\" class=\"dataframe\">\n",
       "  <thead>\n",
       "    <tr style=\"text-align: right;\">\n",
       "      <th></th>\n",
       "      <th>YearsCode</th>\n",
       "      <th>YearsCodePro</th>\n",
       "      <th>CompTotal</th>\n",
       "    </tr>\n",
       "  </thead>\n",
       "  <tbody>\n",
       "    <tr>\n",
       "      <th>count</th>\n",
       "      <td>79224.000000</td>\n",
       "      <td>57995.000000</td>\n",
       "      <td>4.679200e+04</td>\n",
       "    </tr>\n",
       "    <tr>\n",
       "      <th>mean</th>\n",
       "      <td>12.489296</td>\n",
       "      <td>9.575136</td>\n",
       "      <td>2.137117e+69</td>\n",
       "    </tr>\n",
       "    <tr>\n",
       "      <th>std</th>\n",
       "      <td>9.625972</td>\n",
       "      <td>8.116646</td>\n",
       "      <td>4.622897e+71</td>\n",
       "    </tr>\n",
       "    <tr>\n",
       "      <th>min</th>\n",
       "      <td>1.000000</td>\n",
       "      <td>1.000000</td>\n",
       "      <td>0.000000e+00</td>\n",
       "    </tr>\n",
       "    <tr>\n",
       "      <th>25%</th>\n",
       "      <td>5.000000</td>\n",
       "      <td>4.000000</td>\n",
       "      <td>1.600000e+04</td>\n",
       "    </tr>\n",
       "    <tr>\n",
       "      <th>50%</th>\n",
       "      <td>10.000000</td>\n",
       "      <td>7.000000</td>\n",
       "      <td>6.700000e+04</td>\n",
       "    </tr>\n",
       "    <tr>\n",
       "      <th>75%</th>\n",
       "      <td>17.000000</td>\n",
       "      <td>13.000000</td>\n",
       "      <td>1.400000e+05</td>\n",
       "    </tr>\n",
       "    <tr>\n",
       "      <th>max</th>\n",
       "      <td>50.000000</td>\n",
       "      <td>50.000000</td>\n",
       "      <td>1.000000e+74</td>\n",
       "    </tr>\n",
       "  </tbody>\n",
       "</table>\n",
       "</div>"
      ],
      "text/plain": [
       "          YearsCode  YearsCodePro     CompTotal\n",
       "count  79224.000000  57995.000000  4.679200e+04\n",
       "mean      12.489296      9.575136  2.137117e+69\n",
       "std        9.625972      8.116646  4.622897e+71\n",
       "min        1.000000      1.000000  0.000000e+00\n",
       "25%        5.000000      4.000000  1.600000e+04\n",
       "50%       10.000000      7.000000  6.700000e+04\n",
       "75%       17.000000     13.000000  1.400000e+05\n",
       "max       50.000000     50.000000  1.000000e+74"
      ]
     },
     "execution_count": 32,
     "metadata": {},
     "output_type": "execute_result"
    }
   ],
   "source": [
    "survey_df.describe()"
   ]
  },
  {
   "cell_type": "markdown",
   "metadata": {},
   "source": [
    "Let's begin by importing`matplotlib.pyplot` and `seaborn`."
   ]
  },
  {
   "cell_type": "code",
   "execution_count": 33,
   "metadata": {},
   "outputs": [],
   "source": [
    "import seaborn as sns\n",
    "import matplotlib\n",
    "import matplotlib.pyplot as plt\n",
    "%matplotlib inline\n",
    "\n",
    "sns.set_style('darkgrid')\n",
    "matplotlib.rcParams['font.size'] = 14\n",
    "matplotlib.rcParams['figure.figsize'] = (9, 5)\n",
    "matplotlib.rcParams['figure.facecolor'] = '#00000000'"
   ]
  },
  {
   "cell_type": "markdown",
   "metadata": {},
   "source": [
    "## COUNTRY\n",
    "\n",
    "> - Let's look at the number of countries from which there are responses in the survey and plot the ten countries with the highest number of responses."
   ]
  },
  {
   "cell_type": "code",
   "execution_count": 34,
   "metadata": {},
   "outputs": [
    {
     "data": {
      "text/plain": [
       "'Where do you live? '"
      ]
     },
     "execution_count": 34,
     "metadata": {},
     "output_type": "execute_result"
    }
   ],
   "source": [
    "question.Country"
   ]
  },
  {
   "cell_type": "code",
   "execution_count": 35,
   "metadata": {},
   "outputs": [
    {
     "data": {
      "text/plain": [
       "180"
      ]
     },
     "execution_count": 35,
     "metadata": {},
     "output_type": "execute_result"
    }
   ],
   "source": [
    "survey_df.Country.nunique()"
   ]
  },
  {
   "cell_type": "markdown",
   "metadata": {},
   "source": [
    "We can identify the countries with the highest number of respondents using the `value_counts` method."
   ]
  },
  {
   "cell_type": "code",
   "execution_count": 36,
   "metadata": {},
   "outputs": [],
   "source": [
    "top_countries = survey_df.Country.value_counts().head(10)"
   ]
  },
  {
   "cell_type": "code",
   "execution_count": 37,
   "metadata": {},
   "outputs": [
    {
     "data": {
      "text/plain": [
       "United States of America                                15051\n",
       "India                                                   10476\n",
       "Germany                                                  5568\n",
       "United Kingdom of Great Britain and Northern Ireland     4447\n",
       "Canada                                                   2983\n",
       "France                                                   2685\n",
       "Brazil                                                   2232\n",
       "Poland                                                   1785\n",
       "Netherlands                                              1759\n",
       "Italy                                                    1659\n",
       "Name: Country, dtype: int64"
      ]
     },
     "execution_count": 37,
     "metadata": {},
     "output_type": "execute_result"
    }
   ],
   "source": [
    "top_countries"
   ]
  },
  {
   "cell_type": "code",
   "execution_count": 38,
   "metadata": {},
   "outputs": [
    {
     "data": {
      "image/png": "[encoded data removed]",
      "text/plain": [
       "<Figure size 864x432 with 1 Axes>"
      ]
     },
     "metadata": {
      "needs_background": "light"
     },
     "output_type": "display_data"
    }
   ],
   "source": [
    "plt.figure(figsize=(12,6))\n",
    "# to slant the country in x axis\n",
    "plt.xticks(rotation=75)\n",
    "plt.title(question.Country)\n",
    "sns.barplot(x=top_countries.index, y=top_countries);"
   ]
  },
  {
   "cell_type": "markdown",
   "metadata": {},
   "source": [
    "It appears that a disproportionately high number of respondents are from the US and India, probably because the survey is in English, and these countries have the highest English-speaking populations. We can already see that the survey may not be representative of the global programming community - especially from non-English speaking countries. Programmers from non-English speaking countries are almost certainly underrepresented."
   ]
  },
  {
   "cell_type": "markdown",
   "metadata": {},
   "source": [
    "### State with the most developers in U.S.A"
   ]
  },
  {
   "cell_type": "code",
   "execution_count": 39,
   "metadata": {},
   "outputs": [],
   "source": [
    "usa_resp_df = survey_df[survey_df.Country == \"United States of America\"]"
   ]
  },
  {
   "cell_type": "code",
   "execution_count": 40,
   "metadata": {},
   "outputs": [
    {
     "data": {
      "text/html": [
       "<div>\n",
       "<style scoped>\n",
       "    .dataframe tbody tr th:only-of-type {\n",
       "        vertical-align: middle;\n",
       "    }\n",
       "\n",
       "    .dataframe tbody tr th {\n",
       "        vertical-align: top;\n",
       "    }\n",
       "\n",
       "    .dataframe thead th {\n",
       "        text-align: right;\n",
       "    }\n",
       "</style>\n",
       "<table border=\"1\" class=\"dataframe\">\n",
       "  <thead>\n",
       "    <tr style=\"text-align: right;\">\n",
       "      <th></th>\n",
       "      <th>Country</th>\n",
       "      <th>US_State</th>\n",
       "      <th>UK_Country</th>\n",
       "      <th>MainBranch</th>\n",
       "      <th>Age1stCode</th>\n",
       "      <th>YearsCode</th>\n",
       "      <th>YearsCodePro</th>\n",
       "      <th>LearnCode</th>\n",
       "      <th>NEWOtherComms</th>\n",
       "      <th>NEWStuck</th>\n",
       "      <th>Employment</th>\n",
       "      <th>DevType</th>\n",
       "      <th>OrgSize</th>\n",
       "      <th>CompTotal</th>\n",
       "      <th>CompFreq</th>\n",
       "      <th>Age</th>\n",
       "      <th>Gender</th>\n",
       "      <th>Sexuality</th>\n",
       "      <th>MentalHealth</th>\n",
       "    </tr>\n",
       "  </thead>\n",
       "  <tbody>\n",
       "    <tr>\n",
       "      <th>47707</th>\n",
       "      <td>United States of America</td>\n",
       "      <td>Arizona</td>\n",
       "      <td>NaN</td>\n",
       "      <td>I am a developer by profession</td>\n",
       "      <td>11 - 17 years</td>\n",
       "      <td>26.0</td>\n",
       "      <td>25.0</td>\n",
       "      <td>School;Other (please specify):</td>\n",
       "      <td>No</td>\n",
       "      <td>Call a coworker or friend;Visit Stack Overflow...</td>\n",
       "      <td>Employed full-time</td>\n",
       "      <td>Developer, front-end;Developer, desktop or ent...</td>\n",
       "      <td>5,000 to 9,999 employees</td>\n",
       "      <td>136944.0</td>\n",
       "      <td>Yearly</td>\n",
       "      <td>45-54 years old</td>\n",
       "      <td>Man</td>\n",
       "      <td>Straight / Heterosexual</td>\n",
       "      <td>None of the above</td>\n",
       "    </tr>\n",
       "    <tr>\n",
       "      <th>35775</th>\n",
       "      <td>United States of America</td>\n",
       "      <td>Colorado</td>\n",
       "      <td>NaN</td>\n",
       "      <td>I am a developer by profession</td>\n",
       "      <td>11 - 17 years</td>\n",
       "      <td>30.0</td>\n",
       "      <td>22.0</td>\n",
       "      <td>Books / Physical media</td>\n",
       "      <td>No</td>\n",
       "      <td>Visit Stack Overflow;Google it;Do other work a...</td>\n",
       "      <td>Employed full-time</td>\n",
       "      <td>Developer, desktop or enterprise applications;...</td>\n",
       "      <td>100 to 499 employees</td>\n",
       "      <td>154000.0</td>\n",
       "      <td>Yearly</td>\n",
       "      <td>35-44 years old</td>\n",
       "      <td>Man</td>\n",
       "      <td>Straight / Heterosexual</td>\n",
       "      <td>Prefer not to say</td>\n",
       "    </tr>\n",
       "  </tbody>\n",
       "</table>\n",
       "</div>"
      ],
      "text/plain": [
       "                        Country  US_State UK_Country  \\\n",
       "47707  United States of America   Arizona        NaN   \n",
       "35775  United States of America  Colorado        NaN   \n",
       "\n",
       "                           MainBranch     Age1stCode  YearsCode  YearsCodePro  \\\n",
       "47707  I am a developer by profession  11 - 17 years       26.0          25.0   \n",
       "35775  I am a developer by profession  11 - 17 years       30.0          22.0   \n",
       "\n",
       "                            LearnCode NEWOtherComms  \\\n",
       "47707  School;Other (please specify):            No   \n",
       "35775          Books / Physical media            No   \n",
       "\n",
       "                                                NEWStuck          Employment  \\\n",
       "47707  Call a coworker or friend;Visit Stack Overflow...  Employed full-time   \n",
       "35775  Visit Stack Overflow;Google it;Do other work a...  Employed full-time   \n",
       "\n",
       "                                                 DevType  \\\n",
       "47707  Developer, front-end;Developer, desktop or ent...   \n",
       "35775  Developer, desktop or enterprise applications;...   \n",
       "\n",
       "                        OrgSize  CompTotal CompFreq              Age Gender  \\\n",
       "47707  5,000 to 9,999 employees   136944.0   Yearly  45-54 years old    Man   \n",
       "35775      100 to 499 employees   154000.0   Yearly  35-44 years old    Man   \n",
       "\n",
       "                     Sexuality       MentalHealth  \n",
       "47707  Straight / Heterosexual  None of the above  \n",
       "35775  Straight / Heterosexual  Prefer not to say  "
      ]
     },
     "execution_count": 40,
     "metadata": {},
     "output_type": "execute_result"
    }
   ],
   "source": [
    "usa_resp_df.sample(2)"
   ]
  },
  {
   "cell_type": "code",
   "execution_count": 41,
   "metadata": {},
   "outputs": [
    {
     "name": "stdout",
     "output_type": "stream",
     "text": [
      "55 states are recorded\n"
     ]
    }
   ],
   "source": [
    "print(f\"{usa_resp_df.US_State.nunique()} states are recorded\")"
   ]
  },
  {
   "cell_type": "code",
   "execution_count": 42,
   "metadata": {},
   "outputs": [],
   "source": [
    "top_state = usa_resp_df.US_State.value_counts().head(10)"
   ]
  },
  {
   "cell_type": "code",
   "execution_count": 43,
   "metadata": {},
   "outputs": [
    {
     "data": {
      "image/png": "[encoded data removed]",
      "text/plain": [
       "<Figure size 864x432 with 1 Axes>"
      ]
     },
     "metadata": {
      "needs_background": "light"
     },
     "output_type": "display_data"
    }
   ],
   "source": [
    "plt.figure(figsize=(12,6))\n",
    "# to slant the country in x axis\n",
    "plt.xticks(rotation=75)\n",
    "plt.title(\"States with highest developers?\")\n",
    "sns.barplot(x=top_state.index, y=top_state);"
   ]
  },
  {
   "cell_type": "markdown",
   "metadata": {},
   "source": [
    "***Carlifornia has the highest number of developers in the United States***"
   ]
  },
  {
   "cell_type": "markdown",
   "metadata": {},
   "source": [
    "### Percentage of Nigerian developers that took part in the survey."
   ]
  },
  {
   "cell_type": "code",
   "execution_count": 44,
   "metadata": {},
   "outputs": [],
   "source": [
    "Nigeria_resp_df = survey_df[survey_df.Country == \"Nigeria\"]"
   ]
  },
  {
   "cell_type": "code",
   "execution_count": 45,
   "metadata": {},
   "outputs": [
    {
     "data": {
      "text/html": [
       "<div>\n",
       "<style scoped>\n",
       "    .dataframe tbody tr th:only-of-type {\n",
       "        vertical-align: middle;\n",
       "    }\n",
       "\n",
       "    .dataframe tbody tr th {\n",
       "        vertical-align: top;\n",
       "    }\n",
       "\n",
       "    .dataframe thead th {\n",
       "        text-align: right;\n",
       "    }\n",
       "</style>\n",
       "<table border=\"1\" class=\"dataframe\">\n",
       "  <thead>\n",
       "    <tr style=\"text-align: right;\">\n",
       "      <th></th>\n",
       "      <th>Country</th>\n",
       "      <th>US_State</th>\n",
       "      <th>UK_Country</th>\n",
       "      <th>MainBranch</th>\n",
       "      <th>Age1stCode</th>\n",
       "      <th>YearsCode</th>\n",
       "      <th>YearsCodePro</th>\n",
       "      <th>LearnCode</th>\n",
       "      <th>NEWOtherComms</th>\n",
       "      <th>NEWStuck</th>\n",
       "      <th>Employment</th>\n",
       "      <th>DevType</th>\n",
       "      <th>OrgSize</th>\n",
       "      <th>CompTotal</th>\n",
       "      <th>CompFreq</th>\n",
       "      <th>Age</th>\n",
       "      <th>Gender</th>\n",
       "      <th>Sexuality</th>\n",
       "      <th>MentalHealth</th>\n",
       "    </tr>\n",
       "  </thead>\n",
       "  <tbody>\n",
       "    <tr>\n",
       "      <th>35140</th>\n",
       "      <td>Nigeria</td>\n",
       "      <td>NaN</td>\n",
       "      <td>NaN</td>\n",
       "      <td>I am a developer by profession</td>\n",
       "      <td>25 - 34 years</td>\n",
       "      <td>3.0</td>\n",
       "      <td>3.0</td>\n",
       "      <td>Other online resources (ex: videos, blogs, etc...</td>\n",
       "      <td>Yes</td>\n",
       "      <td>Call a coworker or friend;Visit Stack Overflow...</td>\n",
       "      <td>Independent contractor, freelancer, or self-em...</td>\n",
       "      <td>Developer, front-end;Developer, back-end</td>\n",
       "      <td>20 to 99 employees</td>\n",
       "      <td>350000.0</td>\n",
       "      <td>Monthly</td>\n",
       "      <td>25-34 years old</td>\n",
       "      <td>Man</td>\n",
       "      <td>Straight / Heterosexual</td>\n",
       "      <td>None of the above</td>\n",
       "    </tr>\n",
       "    <tr>\n",
       "      <th>37472</th>\n",
       "      <td>Nigeria</td>\n",
       "      <td>NaN</td>\n",
       "      <td>NaN</td>\n",
       "      <td>I am not primarily a developer, but I write co...</td>\n",
       "      <td>11 - 17 years</td>\n",
       "      <td>4.0</td>\n",
       "      <td>3.0</td>\n",
       "      <td>NaN</td>\n",
       "      <td>No</td>\n",
       "      <td>Visit Stack Overflow</td>\n",
       "      <td>Employed full-time</td>\n",
       "      <td>Developer, full-stack;Developer, game or graph...</td>\n",
       "      <td>Just me - I am a freelancer, sole proprietor, ...</td>\n",
       "      <td>NaN</td>\n",
       "      <td>Weekly</td>\n",
       "      <td>18-24 years old</td>\n",
       "      <td>Man</td>\n",
       "      <td>Prefer not to say</td>\n",
       "      <td>None of the above</td>\n",
       "    </tr>\n",
       "    <tr>\n",
       "      <th>72356</th>\n",
       "      <td>Nigeria</td>\n",
       "      <td>NaN</td>\n",
       "      <td>NaN</td>\n",
       "      <td>I am a student who is learning to code</td>\n",
       "      <td>11 - 17 years</td>\n",
       "      <td>1.0</td>\n",
       "      <td>NaN</td>\n",
       "      <td>Other online resources (ex: videos, blogs, etc...</td>\n",
       "      <td>Yes</td>\n",
       "      <td>Call a coworker or friend;Google it;Watch help...</td>\n",
       "      <td>Student, full-time</td>\n",
       "      <td>NaN</td>\n",
       "      <td>NaN</td>\n",
       "      <td>NaN</td>\n",
       "      <td>NaN</td>\n",
       "      <td>18-24 years old</td>\n",
       "      <td>Man</td>\n",
       "      <td>Straight / Heterosexual</td>\n",
       "      <td>None of the above</td>\n",
       "    </tr>\n",
       "  </tbody>\n",
       "</table>\n",
       "</div>"
      ],
      "text/plain": [
       "       Country US_State UK_Country  \\\n",
       "35140  Nigeria      NaN        NaN   \n",
       "37472  Nigeria      NaN        NaN   \n",
       "72356  Nigeria      NaN        NaN   \n",
       "\n",
       "                                              MainBranch     Age1stCode  \\\n",
       "35140                     I am a developer by profession  25 - 34 years   \n",
       "37472  I am not primarily a developer, but I write co...  11 - 17 years   \n",
       "72356             I am a student who is learning to code  11 - 17 years   \n",
       "\n",
       "       YearsCode  YearsCodePro  \\\n",
       "35140        3.0           3.0   \n",
       "37472        4.0           3.0   \n",
       "72356        1.0           NaN   \n",
       "\n",
       "                                               LearnCode NEWOtherComms  \\\n",
       "35140  Other online resources (ex: videos, blogs, etc...           Yes   \n",
       "37472                                                NaN            No   \n",
       "72356  Other online resources (ex: videos, blogs, etc...           Yes   \n",
       "\n",
       "                                                NEWStuck  \\\n",
       "35140  Call a coworker or friend;Visit Stack Overflow...   \n",
       "37472                               Visit Stack Overflow   \n",
       "72356  Call a coworker or friend;Google it;Watch help...   \n",
       "\n",
       "                                              Employment  \\\n",
       "35140  Independent contractor, freelancer, or self-em...   \n",
       "37472                                 Employed full-time   \n",
       "72356                                 Student, full-time   \n",
       "\n",
       "                                                 DevType  \\\n",
       "35140           Developer, front-end;Developer, back-end   \n",
       "37472  Developer, full-stack;Developer, game or graph...   \n",
       "72356                                                NaN   \n",
       "\n",
       "                                                 OrgSize  CompTotal CompFreq  \\\n",
       "35140                                 20 to 99 employees   350000.0  Monthly   \n",
       "37472  Just me - I am a freelancer, sole proprietor, ...        NaN   Weekly   \n",
       "72356                                                NaN        NaN      NaN   \n",
       "\n",
       "                   Age Gender                Sexuality       MentalHealth  \n",
       "35140  25-34 years old    Man  Straight / Heterosexual  None of the above  \n",
       "37472  18-24 years old    Man        Prefer not to say  None of the above  \n",
       "72356  18-24 years old    Man  Straight / Heterosexual  None of the above  "
      ]
     },
     "execution_count": 45,
     "metadata": {},
     "output_type": "execute_result"
    }
   ],
   "source": [
    "Nigeria_resp_df.sample(3)"
   ]
  },
  {
   "cell_type": "code",
   "execution_count": 46,
   "metadata": {},
   "outputs": [
    {
     "data": {
      "text/plain": [
       "Nigeria    0.492527\n",
       "Name: Country, dtype: float64"
      ]
     },
     "execution_count": 46,
     "metadata": {},
     "output_type": "execute_result"
    }
   ],
   "source": [
    "(Nigeria_resp_df.Country.value_counts() / survey_df.Country.count())*100"
   ]
  },
  {
   "cell_type": "markdown",
   "metadata": {},
   "source": [
    "**Approximately 0.5% of the developers that took part in the survey are from Nigeria**"
   ]
  },
  {
   "cell_type": "markdown",
   "metadata": {},
   "source": [
    "## AGE\n",
    "\n",
    "> - Let's look at the ages of respondents in the survey and plot the age range with the highest count."
   ]
  },
  {
   "cell_type": "markdown",
   "metadata": {},
   "source": [
    "Ages are answered in range therefore answers aren't numerical"
   ]
  },
  {
   "cell_type": "code",
   "execution_count": 47,
   "metadata": {},
   "outputs": [
    {
     "data": {
      "text/plain": [
       "'What is your age?'"
      ]
     },
     "execution_count": 47,
     "metadata": {},
     "output_type": "execute_result"
    }
   ],
   "source": [
    "question.Age"
   ]
  },
  {
   "cell_type": "code",
   "execution_count": 48,
   "metadata": {},
   "outputs": [
    {
     "data": {
      "text/plain": [
       "8"
      ]
     },
     "execution_count": 48,
     "metadata": {},
     "output_type": "execute_result"
    }
   ],
   "source": [
    "survey_df.Age.nunique()"
   ]
  },
  {
   "cell_type": "markdown",
   "metadata": {},
   "source": [
    "We have 8 sets of age range available "
   ]
  },
  {
   "cell_type": "code",
   "execution_count": 49,
   "metadata": {},
   "outputs": [
    {
     "data": {
      "text/plain": [
       "array(['25-34 years old', '18-24 years old', '35-44 years old',\n",
       "       'Prefer not to say', '45-54 years old', 'Under 18 years old',\n",
       "       '65 years or older', nan, '55-64 years old'], dtype=object)"
      ]
     },
     "execution_count": 49,
     "metadata": {},
     "output_type": "execute_result"
    }
   ],
   "source": [
    "survey_df.Age.unique()"
   ]
  },
  {
   "cell_type": "markdown",
   "metadata": {},
   "source": [
    "We can identify the Age range with the highest count"
   ]
  },
  {
   "cell_type": "code",
   "execution_count": 50,
   "metadata": {},
   "outputs": [],
   "source": [
    "top_age = survey_df.Age.value_counts()"
   ]
  },
  {
   "cell_type": "code",
   "execution_count": 51,
   "metadata": {},
   "outputs": [
    {
     "data": {
      "text/plain": [
       "25-34 years old       32269\n",
       "18-24 years old       20761\n",
       "35-44 years old       15081\n",
       "45-54 years old        5433\n",
       "Under 18 years old     5283\n",
       "55-64 years old        1800\n",
       "Prefer not to say       564\n",
       "65 years or older       414\n",
       "Name: Age, dtype: int64"
      ]
     },
     "execution_count": 51,
     "metadata": {},
     "output_type": "execute_result"
    }
   ],
   "source": [
    "top_age"
   ]
  },
  {
   "cell_type": "code",
   "execution_count": 52,
   "metadata": {},
   "outputs": [
    {
     "data": {
      "image/png": "[encoded data removed]",
      "text/plain": [
       "<Figure size 864x432 with 1 Axes>"
      ]
     },
     "metadata": {
      "needs_background": "light"
     },
     "output_type": "display_data"
    }
   ],
   "source": [
    "plt.figure(figsize=(12,6))\n",
    "# to slant the country in x axis\n",
    "plt.xticks(rotation=75)\n",
    "plt.title(question.Country)\n",
    "sns.barplot(x=top_age.index, y=top_age);"
   ]
  },
  {
   "cell_type": "markdown",
   "metadata": {},
   "source": [
    "It appears that a large percentage of respondents are 25-34 years old. It's somewhat representative of the programming community in general. Many young people have taken up computer science as their field of study or profession in the last 20 years."
   ]
  },
  {
   "cell_type": "markdown",
   "metadata": {},
   "source": [
    "## GENDER\n",
    "\n",
    "> - Let's look at the distribution of responses for the Gender. It's a well-known fact that women and non-binary genders are underrepresented in the programming community, so we might expect to see a skewed distribution here."
   ]
  },
  {
   "cell_type": "code",
   "execution_count": 53,
   "metadata": {},
   "outputs": [
    {
     "data": {
      "text/plain": [
       "'Which of the following describe you, if any? Please check all that apply.'"
      ]
     },
     "execution_count": 53,
     "metadata": {},
     "output_type": "execute_result"
    }
   ],
   "source": [
    "question.Gender"
   ]
  },
  {
   "cell_type": "code",
   "execution_count": 54,
   "metadata": {},
   "outputs": [],
   "source": [
    "gender_counts = survey_df.Gender.value_counts(dropna = False)"
   ]
  },
  {
   "cell_type": "code",
   "execution_count": 55,
   "metadata": {},
   "outputs": [
    {
     "data": {
      "text/plain": [
       "Man                                                  74817\n",
       "Woman                                                 4120\n",
       "NaN                                                   1957\n",
       "Prefer not to say                                     1442\n",
       "Non-binary, genderqueer, or gender non-conforming      690\n",
       "Or, in your own words:                                 413\n",
       "Name: Gender, dtype: int64"
      ]
     },
     "execution_count": 55,
     "metadata": {},
     "output_type": "execute_result"
    }
   ],
   "source": [
    "gender_counts"
   ]
  },
  {
   "cell_type": "code",
   "execution_count": 56,
   "metadata": {},
   "outputs": [
    {
     "data": {
      "image/png": "[encoded data removed]",
      "text/plain": [
       "<Figure size 576x576 with 1 Axes>"
      ]
     },
     "metadata": {},
     "output_type": "display_data"
    }
   ],
   "source": [
    "plt.figure(figsize=(8,8))\n",
    "plt.title(question.Gender)\n",
    "plt.pie(gender_counts, labels=gender_counts.index, autopct='%1.1f%%', startangle=180);"
   ]
  },
  {
   "cell_type": "markdown",
   "metadata": {},
   "source": [
    "Only about 4.8% of survey respondents who have answered the question identify as women. This number is lower than the overall percentage of women & non-binary genders in the programming community - which is estimated to be around 12%. "
   ]
  },
  {
   "cell_type": "markdown",
   "metadata": {},
   "source": [
    "## EDUCATION LEVEL / PROGRAMMING EXPERIENCE"
   ]
  },
  {
   "cell_type": "code",
   "execution_count": 57,
   "metadata": {},
   "outputs": [
    {
     "data": {
      "text/html": [
       "<div>\n",
       "<style scoped>\n",
       "    .dataframe tbody tr th:only-of-type {\n",
       "        vertical-align: middle;\n",
       "    }\n",
       "\n",
       "    .dataframe tbody tr th {\n",
       "        vertical-align: top;\n",
       "    }\n",
       "\n",
       "    .dataframe thead th {\n",
       "        text-align: right;\n",
       "    }\n",
       "</style>\n",
       "<table border=\"1\" class=\"dataframe\">\n",
       "  <thead>\n",
       "    <tr style=\"text-align: right;\">\n",
       "      <th></th>\n",
       "      <th>ResponseId</th>\n",
       "      <th>MainBranch</th>\n",
       "      <th>Employment</th>\n",
       "      <th>Country</th>\n",
       "      <th>US_State</th>\n",
       "      <th>UK_Country</th>\n",
       "      <th>EdLevel</th>\n",
       "      <th>Age1stCode</th>\n",
       "      <th>LearnCode</th>\n",
       "      <th>YearsCode</th>\n",
       "      <th>...</th>\n",
       "      <th>Age</th>\n",
       "      <th>Gender</th>\n",
       "      <th>Trans</th>\n",
       "      <th>Sexuality</th>\n",
       "      <th>Ethnicity</th>\n",
       "      <th>Accessibility</th>\n",
       "      <th>MentalHealth</th>\n",
       "      <th>SurveyLength</th>\n",
       "      <th>SurveyEase</th>\n",
       "      <th>ConvertedCompYearly</th>\n",
       "    </tr>\n",
       "  </thead>\n",
       "  <tbody>\n",
       "    <tr>\n",
       "      <th>0</th>\n",
       "      <td>1</td>\n",
       "      <td>I am a developer by profession</td>\n",
       "      <td>Independent contractor, freelancer, or self-em...</td>\n",
       "      <td>Slovakia</td>\n",
       "      <td>NaN</td>\n",
       "      <td>NaN</td>\n",
       "      <td>Secondary school (e.g. American high school, G...</td>\n",
       "      <td>18 - 24 years</td>\n",
       "      <td>Coding Bootcamp;Other online resources (ex: vi...</td>\n",
       "      <td>NaN</td>\n",
       "      <td>...</td>\n",
       "      <td>25-34 years old</td>\n",
       "      <td>Man</td>\n",
       "      <td>No</td>\n",
       "      <td>Straight / Heterosexual</td>\n",
       "      <td>White or of European descent</td>\n",
       "      <td>None of the above</td>\n",
       "      <td>None of the above</td>\n",
       "      <td>Appropriate in length</td>\n",
       "      <td>Easy</td>\n",
       "      <td>62268.0</td>\n",
       "    </tr>\n",
       "    <tr>\n",
       "      <th>1</th>\n",
       "      <td>2</td>\n",
       "      <td>I am a student who is learning to code</td>\n",
       "      <td>Student, full-time</td>\n",
       "      <td>Netherlands</td>\n",
       "      <td>NaN</td>\n",
       "      <td>NaN</td>\n",
       "      <td>Bachelor’s degree (B.A., B.S., B.Eng., etc.)</td>\n",
       "      <td>11 - 17 years</td>\n",
       "      <td>Other online resources (ex: videos, blogs, etc...</td>\n",
       "      <td>7</td>\n",
       "      <td>...</td>\n",
       "      <td>18-24 years old</td>\n",
       "      <td>Man</td>\n",
       "      <td>No</td>\n",
       "      <td>Straight / Heterosexual</td>\n",
       "      <td>White or of European descent</td>\n",
       "      <td>None of the above</td>\n",
       "      <td>None of the above</td>\n",
       "      <td>Appropriate in length</td>\n",
       "      <td>Easy</td>\n",
       "      <td>NaN</td>\n",
       "    </tr>\n",
       "  </tbody>\n",
       "</table>\n",
       "<p>2 rows × 48 columns</p>\n",
       "</div>"
      ],
      "text/plain": [
       "   ResponseId                              MainBranch  \\\n",
       "0           1          I am a developer by profession   \n",
       "1           2  I am a student who is learning to code   \n",
       "\n",
       "                                          Employment      Country US_State  \\\n",
       "0  Independent contractor, freelancer, or self-em...     Slovakia      NaN   \n",
       "1                                 Student, full-time  Netherlands      NaN   \n",
       "\n",
       "  UK_Country                                            EdLevel  \\\n",
       "0        NaN  Secondary school (e.g. American high school, G...   \n",
       "1        NaN       Bachelor’s degree (B.A., B.S., B.Eng., etc.)   \n",
       "\n",
       "      Age1stCode                                          LearnCode YearsCode  \\\n",
       "0  18 - 24 years  Coding Bootcamp;Other online resources (ex: vi...       NaN   \n",
       "1  11 - 17 years  Other online resources (ex: videos, blogs, etc...         7   \n",
       "\n",
       "   ...              Age Gender Trans                Sexuality  \\\n",
       "0  ...  25-34 years old    Man    No  Straight / Heterosexual   \n",
       "1  ...  18-24 years old    Man    No  Straight / Heterosexual   \n",
       "\n",
       "                      Ethnicity      Accessibility       MentalHealth  \\\n",
       "0  White or of European descent  None of the above  None of the above   \n",
       "1  White or of European descent  None of the above  None of the above   \n",
       "\n",
       "            SurveyLength SurveyEase ConvertedCompYearly  \n",
       "0  Appropriate in length       Easy             62268.0  \n",
       "1  Appropriate in length       Easy                 NaN  \n",
       "\n",
       "[2 rows x 48 columns]"
      ]
     },
     "execution_count": 57,
     "metadata": {},
     "output_type": "execute_result"
    }
   ],
   "source": [
    "survey_raw_df.head(2)"
   ]
  },
  {
   "cell_type": "code",
   "execution_count": 58,
   "metadata": {},
   "outputs": [
    {
     "data": {
      "text/plain": [
       "'Which of the following best describes the highest level of formal education that you’ve completed? *'"
      ]
     },
     "execution_count": 58,
     "metadata": {},
     "output_type": "execute_result"
    }
   ],
   "source": [
    "question_raw.EdLevel"
   ]
  },
  {
   "cell_type": "code",
   "execution_count": 59,
   "metadata": {},
   "outputs": [
    {
     "data": {
      "text/plain": [
       "array(['Secondary school (e.g. American high school, German Realschule or Gymnasium, etc.)',\n",
       "       'Bachelor’s degree (B.A., B.S., B.Eng., etc.)',\n",
       "       'Master’s degree (M.A., M.S., M.Eng., MBA, etc.)',\n",
       "       'Other doctoral degree (Ph.D., Ed.D., etc.)',\n",
       "       'Some college/university study without earning a degree',\n",
       "       'Something else', 'Professional degree (JD, MD, etc.)',\n",
       "       'Primary/elementary school', 'Associate degree (A.A., A.S., etc.)',\n",
       "       nan], dtype=object)"
      ]
     },
     "execution_count": 59,
     "metadata": {},
     "output_type": "execute_result"
    }
   ],
   "source": [
    "survey_raw_df.EdLevel.unique()"
   ]
  },
  {
   "cell_type": "code",
   "execution_count": 60,
   "metadata": {},
   "outputs": [
    {
     "data": {
      "image/png": "[encoded data removed]",
      "text/plain": [
       "<Figure size 648x360 with 1 Axes>"
      ]
     },
     "metadata": {
      "needs_background": "light"
     },
     "output_type": "display_data"
    }
   ],
   "source": [
    "degree_pct = survey_raw_df.EdLevel.value_counts() * 100 / survey_raw_df.EdLevel.count()\n",
    "\n",
    "sns.barplot(x=degree_pct, y= degree_pct.index)\n",
    "\n",
    "plt.title(question_raw.EdLevel)\n",
    "plt.ylabel(None);\n",
    "plt.xlabel('Percentage');"
   ]
  },
  {
   "cell_type": "code",
   "execution_count": 61,
   "metadata": {},
   "outputs": [
    {
     "name": "stdout",
     "output_type": "stream",
     "text": [
      "42.53% of the respondents have a Bachelor's degree\n"
     ]
    }
   ],
   "source": [
    "print(f'{round(degree_pct[0],2)}% of the respondents have a Bachelor\\'s degree')"
   ]
  },
  {
   "cell_type": "markdown",
   "metadata": {},
   "source": [
    "> It turns out that approximately **42%** of programmers holds a college degree - which is very encouraging. It seems to suggest that a college education is helpful in general."
   ]
  },
  {
   "cell_type": "markdown",
   "metadata": {},
   "source": [
    "#### IMPORTANCE OF FORMAL EDUCATION\n",
    "\n",
    "Formal education in computer science is often considered an essential requirement for becoming a programmer. \n",
    "Let's compare the responses of respondents on how they learnt how to code.\n",
    "To see if a formal eduaction is important or not."
   ]
  },
  {
   "cell_type": "code",
   "execution_count": 62,
   "metadata": {},
   "outputs": [
    {
     "data": {
      "text/plain": [
       "'How did you learn to code? Select all that apply.'"
      ]
     },
     "execution_count": 62,
     "metadata": {},
     "output_type": "execute_result"
    }
   ],
   "source": [
    "question.LearnCode"
   ]
  },
  {
   "cell_type": "code",
   "execution_count": 63,
   "metadata": {},
   "outputs": [
    {
     "data": {
      "text/html": [
       "<div>\n",
       "<style scoped>\n",
       "    .dataframe tbody tr th:only-of-type {\n",
       "        vertical-align: middle;\n",
       "    }\n",
       "\n",
       "    .dataframe tbody tr th {\n",
       "        vertical-align: top;\n",
       "    }\n",
       "\n",
       "    .dataframe thead th {\n",
       "        text-align: right;\n",
       "    }\n",
       "</style>\n",
       "<table border=\"1\" class=\"dataframe\">\n",
       "  <thead>\n",
       "    <tr style=\"text-align: right;\">\n",
       "      <th></th>\n",
       "      <th>LearnCode</th>\n",
       "    </tr>\n",
       "  </thead>\n",
       "  <tbody>\n",
       "    <tr>\n",
       "      <th>0</th>\n",
       "      <td>Coding Bootcamp;Other online resources (ex: vi...</td>\n",
       "    </tr>\n",
       "    <tr>\n",
       "      <th>1</th>\n",
       "      <td>Other online resources (ex: videos, blogs, etc...</td>\n",
       "    </tr>\n",
       "    <tr>\n",
       "      <th>2</th>\n",
       "      <td>Other online resources (ex: videos, blogs, etc...</td>\n",
       "    </tr>\n",
       "    <tr>\n",
       "      <th>3</th>\n",
       "      <td>NaN</td>\n",
       "    </tr>\n",
       "    <tr>\n",
       "      <th>4</th>\n",
       "      <td>Friend or family member</td>\n",
       "    </tr>\n",
       "    <tr>\n",
       "      <th>...</th>\n",
       "      <td>...</td>\n",
       "    </tr>\n",
       "    <tr>\n",
       "      <th>83434</th>\n",
       "      <td>Other online resources (ex: videos, blogs, etc...</td>\n",
       "    </tr>\n",
       "    <tr>\n",
       "      <th>83435</th>\n",
       "      <td>Other online resources (ex: videos, blogs, etc...</td>\n",
       "    </tr>\n",
       "    <tr>\n",
       "      <th>83436</th>\n",
       "      <td>School</td>\n",
       "    </tr>\n",
       "    <tr>\n",
       "      <th>83437</th>\n",
       "      <td>Online Courses or Certification;Books / Physic...</td>\n",
       "    </tr>\n",
       "    <tr>\n",
       "      <th>83438</th>\n",
       "      <td>School</td>\n",
       "    </tr>\n",
       "  </tbody>\n",
       "</table>\n",
       "<p>83439 rows × 1 columns</p>\n",
       "</div>"
      ],
      "text/plain": [
       "                                               LearnCode\n",
       "0      Coding Bootcamp;Other online resources (ex: vi...\n",
       "1      Other online resources (ex: videos, blogs, etc...\n",
       "2      Other online resources (ex: videos, blogs, etc...\n",
       "3                                                    NaN\n",
       "4                                Friend or family member\n",
       "...                                                  ...\n",
       "83434  Other online resources (ex: videos, blogs, etc...\n",
       "83435  Other online resources (ex: videos, blogs, etc...\n",
       "83436                                             School\n",
       "83437  Online Courses or Certification;Books / Physic...\n",
       "83438                                             School\n",
       "\n",
       "[83439 rows x 1 columns]"
      ]
     },
     "execution_count": 63,
     "metadata": {},
     "output_type": "execute_result"
    }
   ],
   "source": [
    "survey_df.LearnCode.to_frame()"
   ]
  },
  {
   "cell_type": "code",
   "execution_count": 64,
   "metadata": {},
   "outputs": [
    {
     "data": {
      "text/plain": [
       "0        Coding Bootcamp;Other online resources (ex: vi...\n",
       "1        Other online resources (ex: videos, blogs, etc...\n",
       "2        Other online resources (ex: videos, blogs, etc...\n",
       "4                                  Friend or family member\n",
       "5        Other online resources (ex: videos, blogs, etc...\n",
       "                               ...                        \n",
       "83434    Other online resources (ex: videos, blogs, etc...\n",
       "83435    Other online resources (ex: videos, blogs, etc...\n",
       "83436                                               School\n",
       "83437    Online Courses or Certification;Books / Physic...\n",
       "83438                                               School\n",
       "Name: LearnCode, Length: 82166, dtype: object"
      ]
     },
     "execution_count": 64,
     "metadata": {},
     "output_type": "execute_result"
    }
   ],
   "source": [
    "survey_df.LearnCode[survey_df.LearnCode.notnull()]"
   ]
  },
  {
   "cell_type": "code",
   "execution_count": 65,
   "metadata": {},
   "outputs": [],
   "source": [
    "def split_multicolumn(col_series):\n",
    "    result_df = col_series.to_frame()\n",
    "    options = []\n",
    "    # iterate of the column\n",
    "    for idx, value in col_series[col_series.notnull()].iteritems():\n",
    "        # Break each values into list of options\n",
    "        for option in value.split(';'):\n",
    "            # add the options as a column to result\n",
    "            if not option in result_df.columns:\n",
    "                options.append(option)\n",
    "                result_df[option] = False\n",
    "            # mark the value in the option column as True\n",
    "            result_df.at[idx, option] = True\n",
    "    return result_df[options]"
   ]
  },
  {
   "cell_type": "code",
   "execution_count": 66,
   "metadata": {},
   "outputs": [],
   "source": [
    "learn_df = split_multicolumn(survey_df.LearnCode)"
   ]
  },
  {
   "cell_type": "code",
   "execution_count": 67,
   "metadata": {
    "scrolled": true
   },
   "outputs": [
    {
     "data": {
      "text/html": [
       "<div>\n",
       "<style scoped>\n",
       "    .dataframe tbody tr th:only-of-type {\n",
       "        vertical-align: middle;\n",
       "    }\n",
       "\n",
       "    .dataframe tbody tr th {\n",
       "        vertical-align: top;\n",
       "    }\n",
       "\n",
       "    .dataframe thead th {\n",
       "        text-align: right;\n",
       "    }\n",
       "</style>\n",
       "<table border=\"1\" class=\"dataframe\">\n",
       "  <thead>\n",
       "    <tr style=\"text-align: right;\">\n",
       "      <th></th>\n",
       "      <th>Coding Bootcamp</th>\n",
       "      <th>Other online resources (ex: videos, blogs, etc)</th>\n",
       "      <th>School</th>\n",
       "      <th>Online Forum</th>\n",
       "      <th>Friend or family member</th>\n",
       "      <th>Online Courses or Certification</th>\n",
       "      <th>Other (please specify):</th>\n",
       "      <th>Colleague</th>\n",
       "      <th>Books / Physical media</th>\n",
       "    </tr>\n",
       "  </thead>\n",
       "  <tbody>\n",
       "    <tr>\n",
       "      <th>0</th>\n",
       "      <td>True</td>\n",
       "      <td>True</td>\n",
       "      <td>False</td>\n",
       "      <td>False</td>\n",
       "      <td>False</td>\n",
       "      <td>False</td>\n",
       "      <td>False</td>\n",
       "      <td>False</td>\n",
       "      <td>False</td>\n",
       "    </tr>\n",
       "    <tr>\n",
       "      <th>1</th>\n",
       "      <td>False</td>\n",
       "      <td>True</td>\n",
       "      <td>True</td>\n",
       "      <td>False</td>\n",
       "      <td>False</td>\n",
       "      <td>False</td>\n",
       "      <td>False</td>\n",
       "      <td>False</td>\n",
       "      <td>False</td>\n",
       "    </tr>\n",
       "    <tr>\n",
       "      <th>2</th>\n",
       "      <td>False</td>\n",
       "      <td>True</td>\n",
       "      <td>False</td>\n",
       "      <td>True</td>\n",
       "      <td>False</td>\n",
       "      <td>False</td>\n",
       "      <td>False</td>\n",
       "      <td>False</td>\n",
       "      <td>False</td>\n",
       "    </tr>\n",
       "    <tr>\n",
       "      <th>3</th>\n",
       "      <td>False</td>\n",
       "      <td>False</td>\n",
       "      <td>False</td>\n",
       "      <td>False</td>\n",
       "      <td>False</td>\n",
       "      <td>False</td>\n",
       "      <td>False</td>\n",
       "      <td>False</td>\n",
       "      <td>False</td>\n",
       "    </tr>\n",
       "    <tr>\n",
       "      <th>4</th>\n",
       "      <td>False</td>\n",
       "      <td>False</td>\n",
       "      <td>False</td>\n",
       "      <td>False</td>\n",
       "      <td>True</td>\n",
       "      <td>False</td>\n",
       "      <td>False</td>\n",
       "      <td>False</td>\n",
       "      <td>False</td>\n",
       "    </tr>\n",
       "    <tr>\n",
       "      <th>...</th>\n",
       "      <td>...</td>\n",
       "      <td>...</td>\n",
       "      <td>...</td>\n",
       "      <td>...</td>\n",
       "      <td>...</td>\n",
       "      <td>...</td>\n",
       "      <td>...</td>\n",
       "      <td>...</td>\n",
       "      <td>...</td>\n",
       "    </tr>\n",
       "    <tr>\n",
       "      <th>83434</th>\n",
       "      <td>False</td>\n",
       "      <td>True</td>\n",
       "      <td>True</td>\n",
       "      <td>True</td>\n",
       "      <td>False</td>\n",
       "      <td>False</td>\n",
       "      <td>False</td>\n",
       "      <td>False</td>\n",
       "      <td>False</td>\n",
       "    </tr>\n",
       "    <tr>\n",
       "      <th>83435</th>\n",
       "      <td>False</td>\n",
       "      <td>True</td>\n",
       "      <td>True</td>\n",
       "      <td>True</td>\n",
       "      <td>False</td>\n",
       "      <td>True</td>\n",
       "      <td>False</td>\n",
       "      <td>False</td>\n",
       "      <td>True</td>\n",
       "    </tr>\n",
       "    <tr>\n",
       "      <th>83436</th>\n",
       "      <td>False</td>\n",
       "      <td>False</td>\n",
       "      <td>True</td>\n",
       "      <td>False</td>\n",
       "      <td>False</td>\n",
       "      <td>False</td>\n",
       "      <td>False</td>\n",
       "      <td>False</td>\n",
       "      <td>False</td>\n",
       "    </tr>\n",
       "    <tr>\n",
       "      <th>83437</th>\n",
       "      <td>False</td>\n",
       "      <td>False</td>\n",
       "      <td>False</td>\n",
       "      <td>False</td>\n",
       "      <td>False</td>\n",
       "      <td>True</td>\n",
       "      <td>False</td>\n",
       "      <td>False</td>\n",
       "      <td>True</td>\n",
       "    </tr>\n",
       "    <tr>\n",
       "      <th>83438</th>\n",
       "      <td>False</td>\n",
       "      <td>False</td>\n",
       "      <td>True</td>\n",
       "      <td>False</td>\n",
       "      <td>False</td>\n",
       "      <td>False</td>\n",
       "      <td>False</td>\n",
       "      <td>False</td>\n",
       "      <td>False</td>\n",
       "    </tr>\n",
       "  </tbody>\n",
       "</table>\n",
       "<p>83439 rows × 9 columns</p>\n",
       "</div>"
      ],
      "text/plain": [
       "       Coding Bootcamp  Other online resources (ex: videos, blogs, etc)  \\\n",
       "0                 True                                             True   \n",
       "1                False                                             True   \n",
       "2                False                                             True   \n",
       "3                False                                            False   \n",
       "4                False                                            False   \n",
       "...                ...                                              ...   \n",
       "83434            False                                             True   \n",
       "83435            False                                             True   \n",
       "83436            False                                            False   \n",
       "83437            False                                            False   \n",
       "83438            False                                            False   \n",
       "\n",
       "       School  Online Forum  Friend or family member  \\\n",
       "0       False         False                    False   \n",
       "1        True         False                    False   \n",
       "2       False          True                    False   \n",
       "3       False         False                    False   \n",
       "4       False         False                     True   \n",
       "...       ...           ...                      ...   \n",
       "83434    True          True                    False   \n",
       "83435    True          True                    False   \n",
       "83436    True         False                    False   \n",
       "83437   False         False                    False   \n",
       "83438    True         False                    False   \n",
       "\n",
       "       Online Courses or Certification  Other (please specify):  Colleague  \\\n",
       "0                                False                    False      False   \n",
       "1                                False                    False      False   \n",
       "2                                False                    False      False   \n",
       "3                                False                    False      False   \n",
       "4                                False                    False      False   \n",
       "...                                ...                      ...        ...   \n",
       "83434                            False                    False      False   \n",
       "83435                             True                    False      False   \n",
       "83436                            False                    False      False   \n",
       "83437                             True                    False      False   \n",
       "83438                            False                    False      False   \n",
       "\n",
       "       Books / Physical media  \n",
       "0                       False  \n",
       "1                       False  \n",
       "2                       False  \n",
       "3                       False  \n",
       "4                       False  \n",
       "...                       ...  \n",
       "83434                   False  \n",
       "83435                    True  \n",
       "83436                   False  \n",
       "83437                    True  \n",
       "83438                   False  \n",
       "\n",
       "[83439 rows x 9 columns]"
      ]
     },
     "execution_count": 67,
     "metadata": {},
     "output_type": "execute_result"
    }
   ],
   "source": [
    "learn_df"
   ]
  },
  {
   "cell_type": "markdown",
   "metadata": {},
   "source": [
    "The `learn_df` has columns for each option that can be selected as a response. If a respondent has chosen an option, the corresponding column's value is `True`. Otherwise, it is `False`.\n",
    "\n",
    "We can now use the column-wise totals to identify the most learning ways."
   ]
  },
  {
   "cell_type": "code",
   "execution_count": 68,
   "metadata": {},
   "outputs": [],
   "source": [
    "learn_totals = learn_df.sum().sort_values(ascending=False)"
   ]
  },
  {
   "cell_type": "code",
   "execution_count": 69,
   "metadata": {},
   "outputs": [
    {
     "data": {
      "text/plain": [
       "Other online resources (ex: videos, blogs, etc)    58.576924\n",
       "School                                             52.811036\n",
       "Books / Physical media                             50.766428\n",
       "Online Courses or Certification                    39.814715\n",
       "Online Forum                                       31.062213\n",
       "Friend or family member                            17.922075\n",
       "Colleague                                          16.897374\n",
       "Coding Bootcamp                                    10.055250\n",
       "Other (please specify):                             8.132887\n",
       "dtype: float64"
      ]
     },
     "execution_count": 69,
     "metadata": {},
     "output_type": "execute_result"
    }
   ],
   "source": [
    "(learn_totals/83439)*100"
   ]
  },
  {
   "cell_type": "code",
   "execution_count": 70,
   "metadata": {},
   "outputs": [
    {
     "name": "stdout",
     "output_type": "stream",
     "text": [
      "58.6% of the respondents used ONLINE RESOURCES to learn coding\n"
     ]
    }
   ],
   "source": [
    "print(str(round(((learn_totals[0]/83439)*100),1)) + \"% of the respondents used ONLINE RESOURCES to learn coding\")"
   ]
  },
  {
   "cell_type": "markdown",
   "metadata": {},
   "source": [
    "The most ways people use in learning to code is by using **ONLINE RESOURSES** such as `Videos`,`Blogs` etc"
   ]
  },
  {
   "cell_type": "markdown",
   "metadata": {},
   "source": [
    "**Age1stCode**"
   ]
  },
  {
   "cell_type": "code",
   "execution_count": 71,
   "metadata": {},
   "outputs": [
    {
     "data": {
      "text/plain": [
       "'At what age did you write your first line of code or program? (e.g., webpage, Hello World, Scratch project) '"
      ]
     },
     "execution_count": 71,
     "metadata": {},
     "output_type": "execute_result"
    }
   ],
   "source": [
    "question.Age1stCode"
   ]
  },
  {
   "cell_type": "code",
   "execution_count": 72,
   "metadata": {},
   "outputs": [
    {
     "data": {
      "text/plain": [
       "array(['18 - 24 years', '11 - 17 years', '5 - 10 years', '25 - 34 years',\n",
       "       nan, '35 - 44 years', 'Younger than 5 years', '45 - 54 years',\n",
       "       '55 - 64 years', 'Older than 64 years'], dtype=object)"
      ]
     },
     "execution_count": 72,
     "metadata": {},
     "output_type": "execute_result"
    }
   ],
   "source": [
    "survey_df.Age1stCode.unique()"
   ]
  },
  {
   "cell_type": "code",
   "execution_count": 73,
   "metadata": {},
   "outputs": [],
   "source": [
    "first_age = survey_df.Age1stCode.value_counts()"
   ]
  },
  {
   "cell_type": "code",
   "execution_count": 74,
   "metadata": {},
   "outputs": [
    {
     "data": {
      "text/plain": [
       "11 - 17 years           53.101081\n",
       "18 - 24 years           24.179090\n",
       "5 - 10 years            13.976395\n",
       "25 - 34 years            5.054646\n",
       "35 - 44 years            1.585415\n",
       "Younger than 5 years     1.058965\n",
       "45 - 54 years            0.656243\n",
       "55 - 64 years            0.292337\n",
       "Older than 64 years      0.095828\n",
       "Name: Age1stCode, dtype: float64"
      ]
     },
     "execution_count": 74,
     "metadata": {},
     "output_type": "execute_result"
    }
   ],
   "source": [
    "(first_age/survey_df.Age1stCode.count())*100"
   ]
  },
  {
   "cell_type": "code",
   "execution_count": 75,
   "metadata": {},
   "outputs": [
    {
     "data": {
      "image/png": "[encoded data removed]",
      "text/plain": [
       "<Figure size 864x432 with 1 Axes>"
      ]
     },
     "metadata": {
      "needs_background": "light"
     },
     "output_type": "display_data"
    }
   ],
   "source": [
    "plt.figure(figsize=(12,6))\n",
    "# to slant the country in x axis\n",
    "plt.xticks(rotation=75)\n",
    "plt.title(question.Age1stCode)\n",
    "sns.barplot(x=first_age.index, y=first_age);"
   ]
  },
  {
   "cell_type": "markdown",
   "metadata": {},
   "source": [
    "**53%** of developers wrote their first code at the age range of `11 - 17`"
   ]
  },
  {
   "cell_type": "markdown",
   "metadata": {},
   "source": [
    "**YearsCode**"
   ]
  },
  {
   "cell_type": "code",
   "execution_count": 76,
   "metadata": {},
   "outputs": [
    {
     "data": {
      "text/plain": [
       "'Including any education, how many years have you been coding in total?'"
      ]
     },
     "execution_count": 76,
     "metadata": {},
     "output_type": "execute_result"
    }
   ],
   "source": [
    "question.YearsCode"
   ]
  },
  {
   "cell_type": "code",
   "execution_count": 77,
   "metadata": {},
   "outputs": [
    {
     "data": {
      "image/png": "[encoded data removed]",
      "text/plain": [
       "<Figure size 864x432 with 1 Axes>"
      ]
     },
     "metadata": {
      "needs_background": "light"
     },
     "output_type": "display_data"
    }
   ],
   "source": [
    "plt.figure(figsize = (12,6))\n",
    "plt.title(question.YearsCode)\n",
    "plt.xlabel(\"Years\")\n",
    "plt.ylabel(\"Number of respondents\")\n",
    "\n",
    "plt.hist(survey_df.YearsCode,bins = np.arange(0,100,10),color= \"purple\");"
   ]
  },
  {
   "cell_type": "markdown",
   "metadata": {},
   "source": [
    "It appears that a large percentage of respondents have been coding for `0-10` years."
   ]
  },
  {
   "cell_type": "markdown",
   "metadata": {},
   "source": [
    "**YearsCodePro**"
   ]
  },
  {
   "cell_type": "code",
   "execution_count": 78,
   "metadata": {},
   "outputs": [
    {
     "data": {
      "text/plain": [
       "'NOT including education, how many years have you coded professionally (as a part of your work)?'"
      ]
     },
     "execution_count": 78,
     "metadata": {},
     "output_type": "execute_result"
    }
   ],
   "source": [
    "question.YearsCodePro"
   ]
  },
  {
   "cell_type": "code",
   "execution_count": 79,
   "metadata": {},
   "outputs": [
    {
     "data": {
      "image/png": "[encoded data removed]",
      "text/plain": [
       "<Figure size 864x432 with 1 Axes>"
      ]
     },
     "metadata": {
      "needs_background": "light"
     },
     "output_type": "display_data"
    }
   ],
   "source": [
    "plt.figure(figsize = (12,6))\n",
    "plt.title(question.YearsCodePro)\n",
    "plt.xlabel(\"Years\")\n",
    "plt.ylabel(\"Number of respondents\")\n",
    "\n",
    "plt.hist(survey_df.YearsCodePro,bins = np.arange(0,100,10),color= \"purple\");"
   ]
  },
  {
   "cell_type": "markdown",
   "metadata": {},
   "source": [
    "A lost have been working professionally for `0-10` years"
   ]
  },
  {
   "cell_type": "markdown",
   "metadata": {},
   "source": [
    "## EMPLOYMENT"
   ]
  },
  {
   "cell_type": "markdown",
   "metadata": {},
   "source": [
    "Freelancing or contract work is a common choice among programmers, so it would be interesting to compare the breakdown between full-time, part-time, and freelance work. Let's visualize the data from the `Employment` column."
   ]
  },
  {
   "cell_type": "code",
   "execution_count": 80,
   "metadata": {},
   "outputs": [
    {
     "data": {
      "text/plain": [
       "'Which of the following best describes your current employment status?'"
      ]
     },
     "execution_count": 80,
     "metadata": {},
     "output_type": "execute_result"
    }
   ],
   "source": [
    "question.Employment"
   ]
  },
  {
   "cell_type": "code",
   "execution_count": 81,
   "metadata": {},
   "outputs": [
    {
     "data": {
      "text/plain": [
       "Employed full-time                                      53167\n",
       "Student, full-time                                      11630\n",
       "Independent contractor, freelancer, or self-employed     7960\n",
       "Not employed, but looking for work                       2917\n",
       "Employed part-time                                       2430\n",
       "Student, part-time                                       2024\n",
       "Not employed, and not looking for work                   1196\n",
       "I prefer not to say                                       880\n",
       "Retired                                                   317\n",
       "Name: Employment, dtype: int64"
      ]
     },
     "execution_count": 81,
     "metadata": {},
     "output_type": "execute_result"
    }
   ],
   "source": [
    "survey_df.Employment.value_counts()"
   ]
  },
  {
   "cell_type": "code",
   "execution_count": 82,
   "metadata": {
    "scrolled": true
   },
   "outputs": [
    {
     "data": {
      "image/png": "[encoded data removed]",
      "text/plain": [
       "<Figure size 648x360 with 1 Axes>"
      ]
     },
     "metadata": {
      "needs_background": "light"
     },
     "output_type": "display_data"
    }
   ],
   "source": [
    "(survey_df.Employment.value_counts(normalize=True, ascending=True)*100).plot(kind='barh', color='g')\n",
    "plt.title(question.Employment)\n",
    "plt.xlabel('Percentage');"
   ]
  },
  {
   "cell_type": "markdown",
   "metadata": {},
   "source": [
    "It appears that close to 10% of respondents are freelancers."
   ]
  },
  {
   "cell_type": "code",
   "execution_count": 83,
   "metadata": {},
   "outputs": [
    {
     "data": {
      "text/plain": [
       "'Are you a member of any other online developer communities?'"
      ]
     },
     "execution_count": 83,
     "metadata": {},
     "output_type": "execute_result"
    }
   ],
   "source": [
    "question.NEWOtherComms"
   ]
  },
  {
   "cell_type": "code",
   "execution_count": 84,
   "metadata": {},
   "outputs": [
    {
     "data": {
      "text/plain": [
       "array(['No', 'Yes', nan], dtype=object)"
      ]
     },
     "execution_count": 84,
     "metadata": {},
     "output_type": "execute_result"
    }
   ],
   "source": [
    "survey_df.NEWOtherComms.unique()"
   ]
  },
  {
   "cell_type": "code",
   "execution_count": 85,
   "metadata": {},
   "outputs": [],
   "source": [
    "community = survey_df.NEWOtherComms.value_counts()"
   ]
  },
  {
   "cell_type": "code",
   "execution_count": 86,
   "metadata": {},
   "outputs": [
    {
     "data": {
      "image/png": "[encoded data removed]",
      "text/plain": [
       "<Figure size 864x432 with 1 Axes>"
      ]
     },
     "metadata": {
      "needs_background": "light"
     },
     "output_type": "display_data"
    }
   ],
   "source": [
    "plt.figure(figsize=(12,6))\n",
    "# to slant the country in x axis\n",
    "plt.xticks(rotation=75)\n",
    "plt.title(question.NEWOtherComms)\n",
    "sns.barplot(x=community.index, y=community);"
   ]
  },
  {
   "cell_type": "markdown",
   "metadata": {},
   "source": [
    "Most respondents are not part of any community"
   ]
  },
  {
   "cell_type": "code",
   "execution_count": 87,
   "metadata": {},
   "outputs": [
    {
     "data": {
      "text/plain": [
       "'What do you do when you get stuck on a problem? Select all that apply.'"
      ]
     },
     "execution_count": 87,
     "metadata": {},
     "output_type": "execute_result"
    }
   ],
   "source": [
    "question.NEWStuck"
   ]
  },
  {
   "cell_type": "code",
   "execution_count": 88,
   "metadata": {},
   "outputs": [
    {
     "data": {
      "text/plain": [
       "array(['Call a coworker or friend;Visit Stack Overflow;Go for a walk or other physical activity;Google it',\n",
       "       'Visit Stack Overflow;Google it',\n",
       "       'Visit Stack Overflow;Google it;Watch help / tutorial videos;Do other work and come back later',\n",
       "       ...,\n",
       "       'Call a coworker or friend;Visit Stack Overflow;Google it;Do other work and come back later;Meditate;Play games;Visit another developer community (please name):;Other (please specify):',\n",
       "       'Call a coworker or friend;Watch help / tutorial videos;Do other work and come back later;Panic;Visit another developer community (please name):',\n",
       "       'Go for a walk or other physical activity;Google it;Watch help / tutorial videos;Do other work and come back later;Panic;Other (please specify):'],\n",
       "      dtype=object)"
      ]
     },
     "execution_count": 88,
     "metadata": {},
     "output_type": "execute_result"
    }
   ],
   "source": [
    "survey_df.NEWStuck.unique()"
   ]
  },
  {
   "cell_type": "code",
   "execution_count": 89,
   "metadata": {},
   "outputs": [],
   "source": [
    "stuck_df = split_multicolumn(survey_df.NEWStuck)"
   ]
  },
  {
   "cell_type": "code",
   "execution_count": 90,
   "metadata": {},
   "outputs": [
    {
     "data": {
      "text/html": [
       "<div>\n",
       "<style scoped>\n",
       "    .dataframe tbody tr th:only-of-type {\n",
       "        vertical-align: middle;\n",
       "    }\n",
       "\n",
       "    .dataframe tbody tr th {\n",
       "        vertical-align: top;\n",
       "    }\n",
       "\n",
       "    .dataframe thead th {\n",
       "        text-align: right;\n",
       "    }\n",
       "</style>\n",
       "<table border=\"1\" class=\"dataframe\">\n",
       "  <thead>\n",
       "    <tr style=\"text-align: right;\">\n",
       "      <th></th>\n",
       "      <th>Call a coworker or friend</th>\n",
       "      <th>Visit Stack Overflow</th>\n",
       "      <th>Go for a walk or other physical activity</th>\n",
       "      <th>Google it</th>\n",
       "      <th>Watch help / tutorial videos</th>\n",
       "      <th>Do other work and come back later</th>\n",
       "      <th>Meditate</th>\n",
       "      <th>Play games</th>\n",
       "      <th>Panic</th>\n",
       "      <th>Visit another developer community (please name):</th>\n",
       "      <th>Other (please specify):</th>\n",
       "    </tr>\n",
       "  </thead>\n",
       "  <tbody>\n",
       "    <tr>\n",
       "      <th>0</th>\n",
       "      <td>True</td>\n",
       "      <td>True</td>\n",
       "      <td>True</td>\n",
       "      <td>True</td>\n",
       "      <td>False</td>\n",
       "      <td>False</td>\n",
       "      <td>False</td>\n",
       "      <td>False</td>\n",
       "      <td>False</td>\n",
       "      <td>False</td>\n",
       "      <td>False</td>\n",
       "    </tr>\n",
       "  </tbody>\n",
       "</table>\n",
       "</div>"
      ],
      "text/plain": [
       "   Call a coworker or friend  Visit Stack Overflow  \\\n",
       "0                       True                  True   \n",
       "\n",
       "   Go for a walk or other physical activity  Google it  \\\n",
       "0                                      True       True   \n",
       "\n",
       "   Watch help / tutorial videos  Do other work and come back later  Meditate  \\\n",
       "0                         False                              False     False   \n",
       "\n",
       "   Play games  Panic  Visit another developer community (please name):  \\\n",
       "0       False  False                                             False   \n",
       "\n",
       "   Other (please specify):  \n",
       "0                    False  "
      ]
     },
     "execution_count": 90,
     "metadata": {},
     "output_type": "execute_result"
    }
   ],
   "source": [
    "stuck_df.head(1)"
   ]
  },
  {
   "cell_type": "code",
   "execution_count": 91,
   "metadata": {},
   "outputs": [],
   "source": [
    "stuck_totals = stuck_df.sum().sort_values(ascending=False)"
   ]
  },
  {
   "cell_type": "code",
   "execution_count": 92,
   "metadata": {
    "scrolled": true
   },
   "outputs": [
    {
     "data": {
      "text/plain": [
       "Google it                                           73795\n",
       "Visit Stack Overflow                                65814\n",
       "Do other work and come back later                   39392\n",
       "Watch help / tutorial videos                        35852\n",
       "Call a coworker or friend                           32483\n",
       "Go for a walk or other physical activity            30408\n",
       "Play games                                          11918\n",
       "Panic                                                9740\n",
       "Meditate                                             7662\n",
       "Visit another developer community (please name):     6462\n",
       "Other (please specify):                              5650\n",
       "dtype: int64"
      ]
     },
     "execution_count": 92,
     "metadata": {},
     "output_type": "execute_result"
    }
   ],
   "source": [
    "stuck_totals"
   ]
  },
  {
   "cell_type": "markdown",
   "metadata": {},
   "source": [
    "From the analysis, Most developes `google` when ever they  get stuck."
   ]
  },
  {
   "cell_type": "markdown",
   "metadata": {},
   "source": [
    "### Mental Health of Developers"
   ]
  },
  {
   "cell_type": "code",
   "execution_count": 93,
   "metadata": {
    "scrolled": true
   },
   "outputs": [
    {
     "data": {
      "text/plain": [
       "'Which of the following describe you, if any? Please check all that apply. '"
      ]
     },
     "execution_count": 93,
     "metadata": {},
     "output_type": "execute_result"
    }
   ],
   "source": [
    "question.MentalHealth"
   ]
  },
  {
   "cell_type": "code",
   "execution_count": 94,
   "metadata": {},
   "outputs": [],
   "source": [
    "health_df = split_multicolumn(survey_df.MentalHealth)"
   ]
  },
  {
   "cell_type": "code",
   "execution_count": 95,
   "metadata": {},
   "outputs": [
    {
     "data": {
      "text/html": [
       "<div>\n",
       "<style scoped>\n",
       "    .dataframe tbody tr th:only-of-type {\n",
       "        vertical-align: middle;\n",
       "    }\n",
       "\n",
       "    .dataframe tbody tr th {\n",
       "        vertical-align: top;\n",
       "    }\n",
       "\n",
       "    .dataframe thead th {\n",
       "        text-align: right;\n",
       "    }\n",
       "</style>\n",
       "<table border=\"1\" class=\"dataframe\">\n",
       "  <thead>\n",
       "    <tr style=\"text-align: right;\">\n",
       "      <th></th>\n",
       "      <th>None of the above</th>\n",
       "      <th>I have a concentration and/or memory disorder (e.g. ADHD)</th>\n",
       "      <th>Prefer not to say</th>\n",
       "      <th>I have a mood or emotional disorder (e.g. depression, bipolar disorder)</th>\n",
       "      <th>I have an anxiety disorder</th>\n",
       "      <th>I have autism / an autism spectrum disorder (e.g. Asperger's)</th>\n",
       "      <th>Or, in your own words:</th>\n",
       "    </tr>\n",
       "  </thead>\n",
       "  <tbody>\n",
       "    <tr>\n",
       "      <th>45013</th>\n",
       "      <td>True</td>\n",
       "      <td>False</td>\n",
       "      <td>False</td>\n",
       "      <td>False</td>\n",
       "      <td>False</td>\n",
       "      <td>False</td>\n",
       "      <td>False</td>\n",
       "    </tr>\n",
       "    <tr>\n",
       "      <th>1889</th>\n",
       "      <td>True</td>\n",
       "      <td>False</td>\n",
       "      <td>False</td>\n",
       "      <td>False</td>\n",
       "      <td>False</td>\n",
       "      <td>False</td>\n",
       "      <td>False</td>\n",
       "    </tr>\n",
       "  </tbody>\n",
       "</table>\n",
       "</div>"
      ],
      "text/plain": [
       "       None of the above  \\\n",
       "45013               True   \n",
       "1889                True   \n",
       "\n",
       "       I have a concentration and/or memory disorder (e.g. ADHD)  \\\n",
       "45013                                              False           \n",
       "1889                                               False           \n",
       "\n",
       "       Prefer not to say  \\\n",
       "45013              False   \n",
       "1889               False   \n",
       "\n",
       "       I have a mood or emotional disorder (e.g. depression, bipolar disorder)  \\\n",
       "45013                                              False                         \n",
       "1889                                               False                         \n",
       "\n",
       "       I have an anxiety disorder  \\\n",
       "45013                       False   \n",
       "1889                        False   \n",
       "\n",
       "       I have autism / an autism spectrum disorder (e.g. Asperger's)  \\\n",
       "45013                                              False               \n",
       "1889                                               False               \n",
       "\n",
       "       Or, in your own words:  \n",
       "45013                   False  \n",
       "1889                    False  "
      ]
     },
     "execution_count": 95,
     "metadata": {},
     "output_type": "execute_result"
    }
   ],
   "source": [
    "health_df.sample(2)"
   ]
  },
  {
   "cell_type": "code",
   "execution_count": 96,
   "metadata": {},
   "outputs": [
    {
     "data": {
      "text/plain": [
       "None of the above                                                          67.342610\n",
       "I have an anxiety disorder                                                  8.533180\n",
       "I have a mood or emotional disorder (e.g. depression, bipolar disorder)     7.968696\n",
       "I have a concentration and/or memory disorder (e.g. ADHD)                   7.587579\n",
       "Prefer not to say                                                           4.658493\n",
       "I have autism / an autism spectrum disorder (e.g. Asperger's)               3.252676\n",
       "Or, in your own words:                                                      1.566414\n",
       "dtype: float64"
      ]
     },
     "execution_count": 96,
     "metadata": {},
     "output_type": "execute_result"
    }
   ],
   "source": [
    "health_totals = health_df.sum().sort_values(ascending=False)\n",
    "(health_totals/len(health_df))*100"
   ]
  },
  {
   "cell_type": "markdown",
   "metadata": {},
   "source": [
    "`67%` of developers are mentally okay."
   ]
  },
  {
   "cell_type": "markdown",
   "metadata": {},
   "source": [
    "## Asking and Answering Questions\n",
    "\n",
    "We've already gained several insights about the respondents and the programming community by exploring individual columns of the dataset. Let's ask some specific questions and try to answer them using data frame operations and visualizations."
   ]
  },
  {
   "cell_type": "code",
   "execution_count": 123,
   "metadata": {
    "collapsed": true
   },
   "outputs": [
    {
     "data": {
      "text/html": [
       "<div>\n",
       "<style scoped>\n",
       "    .dataframe tbody tr th:only-of-type {\n",
       "        vertical-align: middle;\n",
       "    }\n",
       "\n",
       "    .dataframe tbody tr th {\n",
       "        vertical-align: top;\n",
       "    }\n",
       "\n",
       "    .dataframe thead th {\n",
       "        text-align: right;\n",
       "    }\n",
       "</style>\n",
       "<table border=\"1\" class=\"dataframe\">\n",
       "  <thead>\n",
       "    <tr style=\"text-align: right;\">\n",
       "      <th></th>\n",
       "      <th>Developer, mobile</th>\n",
       "      <th>Developer, front-end</th>\n",
       "      <th>Developer, desktop or enterprise applications</th>\n",
       "      <th>Developer, full-stack</th>\n",
       "      <th>Engineer, data</th>\n",
       "      <th>Other (please specify):</th>\n",
       "      <th>Data scientist or machine learning specialist</th>\n",
       "      <th>Developer, back-end</th>\n",
       "      <th>Academic researcher</th>\n",
       "      <th>Database administrator</th>\n",
       "      <th>...</th>\n",
       "      <th>DevOps specialist</th>\n",
       "      <th>Data or business analyst</th>\n",
       "      <th>Designer</th>\n",
       "      <th>Engineering manager</th>\n",
       "      <th>Engineer, site reliability</th>\n",
       "      <th>System administrator</th>\n",
       "      <th>Product manager</th>\n",
       "      <th>Senior Executive (C-Suite, VP, etc.)</th>\n",
       "      <th>Educator</th>\n",
       "      <th>Marketing or sales professional</th>\n",
       "    </tr>\n",
       "  </thead>\n",
       "  <tbody>\n",
       "    <tr>\n",
       "      <th>46059</th>\n",
       "      <td>False</td>\n",
       "      <td>False</td>\n",
       "      <td>False</td>\n",
       "      <td>True</td>\n",
       "      <td>False</td>\n",
       "      <td>False</td>\n",
       "      <td>False</td>\n",
       "      <td>False</td>\n",
       "      <td>False</td>\n",
       "      <td>False</td>\n",
       "      <td>...</td>\n",
       "      <td>False</td>\n",
       "      <td>False</td>\n",
       "      <td>False</td>\n",
       "      <td>False</td>\n",
       "      <td>False</td>\n",
       "      <td>False</td>\n",
       "      <td>False</td>\n",
       "      <td>False</td>\n",
       "      <td>False</td>\n",
       "      <td>False</td>\n",
       "    </tr>\n",
       "  </tbody>\n",
       "</table>\n",
       "<p>1 rows × 25 columns</p>\n",
       "</div>"
      ],
      "text/plain": [
       "       Developer, mobile  Developer, front-end  \\\n",
       "46059              False                 False   \n",
       "\n",
       "       Developer, desktop or enterprise applications  Developer, full-stack  \\\n",
       "46059                                          False                   True   \n",
       "\n",
       "       Engineer, data  Other (please specify):  \\\n",
       "46059           False                    False   \n",
       "\n",
       "       Data scientist or machine learning specialist  Developer, back-end  \\\n",
       "46059                                          False                False   \n",
       "\n",
       "       Academic researcher  Database administrator  ...  DevOps specialist  \\\n",
       "46059                False                   False  ...              False   \n",
       "\n",
       "       Data or business analyst  Designer  Engineering manager  \\\n",
       "46059                     False     False                False   \n",
       "\n",
       "       Engineer, site reliability  System administrator  Product manager  \\\n",
       "46059                       False                 False            False   \n",
       "\n",
       "       Senior Executive (C-Suite, VP, etc.)  Educator  \\\n",
       "46059                                 False     False   \n",
       "\n",
       "       Marketing or sales professional  \n",
       "46059                            False  \n",
       "\n",
       "[1 rows x 25 columns]"
      ]
     },
     "execution_count": 123,
     "metadata": {},
     "output_type": "execute_result"
    }
   ],
   "source": [
    "\"\"\"Data frame for dev role\"\"\"\n",
    "\n",
    "dev_df = split_multicolumn(survey_df.DevType)\n",
    "dev_df.sample(1)"
   ]
  },
  {
   "cell_type": "code",
   "execution_count": 149,
   "metadata": {},
   "outputs": [
    {
     "data": {
      "text/html": [
       "<div>\n",
       "<style scoped>\n",
       "    .dataframe tbody tr th:only-of-type {\n",
       "        vertical-align: middle;\n",
       "    }\n",
       "\n",
       "    .dataframe tbody tr th {\n",
       "        vertical-align: top;\n",
       "    }\n",
       "\n",
       "    .dataframe thead th {\n",
       "        text-align: right;\n",
       "    }\n",
       "</style>\n",
       "<table border=\"1\" class=\"dataframe\">\n",
       "  <thead>\n",
       "    <tr style=\"text-align: right;\">\n",
       "      <th></th>\n",
       "      <th>Country</th>\n",
       "      <th>US_State</th>\n",
       "      <th>UK_Country</th>\n",
       "      <th>MainBranch</th>\n",
       "      <th>Age1stCode</th>\n",
       "      <th>YearsCode</th>\n",
       "      <th>YearsCodePro</th>\n",
       "      <th>LearnCode</th>\n",
       "      <th>NEWOtherComms</th>\n",
       "      <th>NEWStuck</th>\n",
       "      <th>...</th>\n",
       "      <th>DevOps specialist</th>\n",
       "      <th>Data or business analyst</th>\n",
       "      <th>Designer</th>\n",
       "      <th>Engineering manager</th>\n",
       "      <th>Engineer, site reliability</th>\n",
       "      <th>System administrator</th>\n",
       "      <th>Product manager</th>\n",
       "      <th>Senior Executive (C-Suite, VP, etc.)</th>\n",
       "      <th>Educator</th>\n",
       "      <th>Marketing or sales professional</th>\n",
       "    </tr>\n",
       "  </thead>\n",
       "  <tbody>\n",
       "    <tr>\n",
       "      <th>50731</th>\n",
       "      <td>NaN</td>\n",
       "      <td>NaN</td>\n",
       "      <td>NaN</td>\n",
       "      <td>NaN</td>\n",
       "      <td>NaN</td>\n",
       "      <td>NaN</td>\n",
       "      <td>NaN</td>\n",
       "      <td>NaN</td>\n",
       "      <td>NaN</td>\n",
       "      <td>NaN</td>\n",
       "      <td>...</td>\n",
       "      <td>False</td>\n",
       "      <td>False</td>\n",
       "      <td>False</td>\n",
       "      <td>False</td>\n",
       "      <td>False</td>\n",
       "      <td>False</td>\n",
       "      <td>False</td>\n",
       "      <td>False</td>\n",
       "      <td>False</td>\n",
       "      <td>False</td>\n",
       "    </tr>\n",
       "  </tbody>\n",
       "</table>\n",
       "<p>1 rows × 44 columns</p>\n",
       "</div>"
      ],
      "text/plain": [
       "      Country US_State UK_Country MainBranch Age1stCode  YearsCode  \\\n",
       "50731     NaN      NaN        NaN        NaN        NaN        NaN   \n",
       "\n",
       "       YearsCodePro LearnCode NEWOtherComms NEWStuck  ... DevOps specialist  \\\n",
       "50731           NaN       NaN           NaN      NaN  ...             False   \n",
       "\n",
       "      Data or business analyst Designer  Engineering manager  \\\n",
       "50731                    False    False                False   \n",
       "\n",
       "      Engineer, site reliability System administrator Product manager  \\\n",
       "50731                      False                False           False   \n",
       "\n",
       "      Senior Executive (C-Suite, VP, etc.) Educator  \\\n",
       "50731                                False    False   \n",
       "\n",
       "      Marketing or sales professional  \n",
       "50731                           False  \n",
       "\n",
       "[1 rows x 44 columns]"
      ]
     },
     "execution_count": 149,
     "metadata": {},
     "output_type": "execute_result"
    }
   ],
   "source": [
    "\"\"\"Survey df + Employment State df + Dev role df\"\"\"\n",
    "\n",
    "fulldf = pd.concat([survey_df,dev_df])\n",
    "fulldf.sample(1)"
   ]
  },
  {
   "cell_type": "markdown",
   "metadata": {},
   "source": [
    "### **(1)  What's the `impact of starting early`**?"
   ]
  },
  {
   "cell_type": "markdown",
   "metadata": {},
   "source": [
    "Lets see the ways by which starting early to code can help you in later in your career"
   ]
  },
  {
   "cell_type": "markdown",
   "metadata": {},
   "source": [
    " ***EXPERIENCE***"
   ]
  },
  {
   "cell_type": "code",
   "execution_count": 98,
   "metadata": {},
   "outputs": [],
   "source": [
    "early_birds = survey_df[survey_df.Age1stCode == \"5 - 10 years\"]"
   ]
  },
  {
   "cell_type": "code",
   "execution_count": 99,
   "metadata": {},
   "outputs": [
    {
     "data": {
      "text/html": [
       "<div>\n",
       "<style scoped>\n",
       "    .dataframe tbody tr th:only-of-type {\n",
       "        vertical-align: middle;\n",
       "    }\n",
       "\n",
       "    .dataframe tbody tr th {\n",
       "        vertical-align: top;\n",
       "    }\n",
       "\n",
       "    .dataframe thead th {\n",
       "        text-align: right;\n",
       "    }\n",
       "</style>\n",
       "<table border=\"1\" class=\"dataframe\">\n",
       "  <thead>\n",
       "    <tr style=\"text-align: right;\">\n",
       "      <th></th>\n",
       "      <th>Country</th>\n",
       "      <th>US_State</th>\n",
       "      <th>UK_Country</th>\n",
       "      <th>MainBranch</th>\n",
       "      <th>Age1stCode</th>\n",
       "      <th>YearsCode</th>\n",
       "      <th>YearsCodePro</th>\n",
       "      <th>LearnCode</th>\n",
       "      <th>NEWOtherComms</th>\n",
       "      <th>NEWStuck</th>\n",
       "      <th>Employment</th>\n",
       "      <th>DevType</th>\n",
       "      <th>OrgSize</th>\n",
       "      <th>CompTotal</th>\n",
       "      <th>CompFreq</th>\n",
       "      <th>Age</th>\n",
       "      <th>Gender</th>\n",
       "      <th>Sexuality</th>\n",
       "      <th>MentalHealth</th>\n",
       "    </tr>\n",
       "  </thead>\n",
       "  <tbody>\n",
       "    <tr>\n",
       "      <th>54708</th>\n",
       "      <td>Australia</td>\n",
       "      <td>NaN</td>\n",
       "      <td>NaN</td>\n",
       "      <td>I am not primarily a developer, but I write co...</td>\n",
       "      <td>5 - 10 years</td>\n",
       "      <td>43.0</td>\n",
       "      <td>NaN</td>\n",
       "      <td>School;Books / Physical media</td>\n",
       "      <td>Yes</td>\n",
       "      <td>Visit Stack Overflow;Go for a walk or other ph...</td>\n",
       "      <td>Not employed, but looking for work</td>\n",
       "      <td>Developer, mobile;Developer, desktop or enterp...</td>\n",
       "      <td>NaN</td>\n",
       "      <td>NaN</td>\n",
       "      <td>NaN</td>\n",
       "      <td>45-54 years old</td>\n",
       "      <td>Man</td>\n",
       "      <td>Straight / Heterosexual</td>\n",
       "      <td>None of the above</td>\n",
       "    </tr>\n",
       "    <tr>\n",
       "      <th>67601</th>\n",
       "      <td>Czech Republic</td>\n",
       "      <td>NaN</td>\n",
       "      <td>NaN</td>\n",
       "      <td>I am a developer by profession</td>\n",
       "      <td>5 - 10 years</td>\n",
       "      <td>20.0</td>\n",
       "      <td>7.0</td>\n",
       "      <td>School;Books / Physical media</td>\n",
       "      <td>No</td>\n",
       "      <td>Call a coworker or friend;Go for a walk or oth...</td>\n",
       "      <td>Employed full-time</td>\n",
       "      <td>Developer, back-end</td>\n",
       "      <td>I don’t know</td>\n",
       "      <td>NaN</td>\n",
       "      <td>NaN</td>\n",
       "      <td>25-34 years old</td>\n",
       "      <td>Man</td>\n",
       "      <td>Straight / Heterosexual</td>\n",
       "      <td>None of the above</td>\n",
       "    </tr>\n",
       "  </tbody>\n",
       "</table>\n",
       "</div>"
      ],
      "text/plain": [
       "              Country US_State UK_Country  \\\n",
       "54708       Australia      NaN        NaN   \n",
       "67601  Czech Republic      NaN        NaN   \n",
       "\n",
       "                                              MainBranch    Age1stCode  \\\n",
       "54708  I am not primarily a developer, but I write co...  5 - 10 years   \n",
       "67601                     I am a developer by profession  5 - 10 years   \n",
       "\n",
       "       YearsCode  YearsCodePro                      LearnCode NEWOtherComms  \\\n",
       "54708       43.0           NaN  School;Books / Physical media           Yes   \n",
       "67601       20.0           7.0  School;Books / Physical media            No   \n",
       "\n",
       "                                                NEWStuck  \\\n",
       "54708  Visit Stack Overflow;Go for a walk or other ph...   \n",
       "67601  Call a coworker or friend;Go for a walk or oth...   \n",
       "\n",
       "                               Employment  \\\n",
       "54708  Not employed, but looking for work   \n",
       "67601                  Employed full-time   \n",
       "\n",
       "                                                 DevType       OrgSize  \\\n",
       "54708  Developer, mobile;Developer, desktop or enterp...           NaN   \n",
       "67601                                Developer, back-end  I don’t know   \n",
       "\n",
       "       CompTotal CompFreq              Age Gender                Sexuality  \\\n",
       "54708        NaN      NaN  45-54 years old    Man  Straight / Heterosexual   \n",
       "67601        NaN      NaN  25-34 years old    Man  Straight / Heterosexual   \n",
       "\n",
       "            MentalHealth  \n",
       "54708  None of the above  \n",
       "67601  None of the above  "
      ]
     },
     "execution_count": 99,
     "metadata": {},
     "output_type": "execute_result"
    }
   ],
   "source": [
    "early_birds.sample(2)"
   ]
  },
  {
   "cell_type": "markdown",
   "metadata": {},
   "source": [
    "*Years of coding Experience early birds have compared to late starters*"
   ]
  },
  {
   "cell_type": "code",
   "execution_count": 100,
   "metadata": {},
   "outputs": [
    {
     "data": {
      "text/plain": [
       "(11522, 19)"
      ]
     },
     "execution_count": 100,
     "metadata": {},
     "output_type": "execute_result"
    }
   ],
   "source": [
    "early_birds.shape"
   ]
  },
  {
   "cell_type": "code",
   "execution_count": 101,
   "metadata": {},
   "outputs": [
    {
     "data": {
      "image/png": "[encoded data removed]",
      "text/plain": [
       "<Figure size 864x432 with 1 Axes>"
      ]
     },
     "metadata": {
      "needs_background": "light"
     },
     "output_type": "display_data"
    }
   ],
   "source": [
    "plt.figure(figsize = (12,6))\n",
    "plt.title(question.YearsCode)\n",
    "plt.xlabel(\"Years\")\n",
    "plt.ylabel(\"Number of respondents\")\n",
    "\n",
    "plt.hist(early_birds.YearsCode,bins = np.arange(0,100,10),color= \"purple\");"
   ]
  },
  {
   "cell_type": "markdown",
   "metadata": {},
   "source": [
    "Compared to the previous chart (YearsCode) we can see a great change. we can see an increase in the rate of year `10 - 50`.\n",
    "Lets compare it to *late starters*.\n",
    "\n",
    "let say we take late starters from the age `25 - 34` and lets compare the graph. Early starters age range we selected is `5 - 10`"
   ]
  },
  {
   "cell_type": "code",
   "execution_count": 102,
   "metadata": {},
   "outputs": [],
   "source": [
    "late_birds = survey_df[survey_df.Age1stCode == \"25 - 34 years\"]"
   ]
  },
  {
   "cell_type": "code",
   "execution_count": 103,
   "metadata": {
    "scrolled": true
   },
   "outputs": [
    {
     "data": {
      "image/png": "[encoded data removed]",
      "text/plain": [
       "<Figure size 864x432 with 1 Axes>"
      ]
     },
     "metadata": {
      "needs_background": "light"
     },
     "output_type": "display_data"
    }
   ],
   "source": [
    "plt.figure(figsize = (12,6))\n",
    "plt.title(question.YearsCode)\n",
    "plt.xlabel(\"Years\")\n",
    "plt.ylabel(\"Number of respondents\")\n",
    "\n",
    "plt.hist(late_birds.YearsCode,bins = np.arange(0,100,10),color= \"purple\");"
   ]
  },
  {
   "cell_type": "markdown",
   "metadata": {},
   "source": [
    "We can see that more years were not covered. Low experience from years `10 - 50` almost none have gotten 50 years if experience.\n",
    "Some company this days look at the level of experience you have before employing you as a developer. Also the higher your experience the more pay you get.\n",
    "\n",
    "This is key to showing that starting early will have a positive impact in your journey as a developer."
   ]
  },
  {
   "cell_type": "markdown",
   "metadata": {},
   "source": [
    "### **(2)  What developers role has the highest `full-time employment` rate**?"
   ]
  },
  {
   "cell_type": "markdown",
   "metadata": {},
   "source": [
    "***Lets find out which dev_role is the most selcted***"
   ]
  },
  {
   "cell_type": "code",
   "execution_count": 139,
   "metadata": {
    "scrolled": true
   },
   "outputs": [
    {
     "data": {
      "text/plain": [
       "Developer, full-stack                            32619\n",
       "Developer, back-end                              28817\n",
       "Developer, front-end                             18065\n",
       "Developer, desktop or enterprise applications    10930\n",
       "Developer, mobile                                 9721\n",
       "DevOps specialist                                 6975\n",
       "System administrator                              5996\n",
       "Database administrator                            5594\n",
       "Designer                                          4546\n",
       "Developer, embedded applications or devices       4536\n",
       "Data scientist or machine learning specialist     4221\n",
       "Student                                           4127\n",
       "Engineer, data                                    4122\n",
       "Engineering manager                               3774\n",
       "Data or business analyst                          3751\n",
       "Developer, QA or test                             3559\n",
       "Other (please specify):                           3482\n",
       "Product manager                                   3035\n",
       "Academic researcher                               2862\n",
       "Engineer, site reliability                        2407\n",
       "Educator                                          2337\n",
       "Senior Executive (C-Suite, VP, etc.)              2077\n",
       "Developer, game or graphics                       2071\n",
       "Scientist                                         1979\n",
       "Marketing or sales professional                    622\n",
       "dtype: int64"
      ]
     },
     "execution_count": 139,
     "metadata": {},
     "output_type": "execute_result"
    }
   ],
   "source": [
    "dev_df_total = dev_df.sum().sort_values(ascending=False)\n",
    "dev_df_total"
   ]
  },
  {
   "cell_type": "markdown",
   "metadata": {},
   "source": [
    "> - We noted out that `Fullstack devs` role is the most selected job role by respondents. Lets continue our analysis...\n"
   ]
  },
  {
   "cell_type": "code",
   "execution_count": 151,
   "metadata": {},
   "outputs": [
    {
     "data": {
      "text/plain": [
       "array(['Independent contractor, freelancer, or self-employed',\n",
       "       'Student, full-time', 'Employed full-time', 'Student, part-time',\n",
       "       'I prefer not to say', 'Employed part-time',\n",
       "       'Not employed, but looking for work', 'Retired', nan,\n",
       "       'Not employed, and not looking for work'], dtype=object)"
      ]
     },
     "execution_count": 151,
     "metadata": {},
     "output_type": "execute_result"
    }
   ],
   "source": [
    "fulldf.Employment.unique()"
   ]
  },
  {
   "cell_type": "code",
   "execution_count": 158,
   "metadata": {},
   "outputs": [],
   "source": [
    "fullemp = fulldf[fulldf['Employment'] == 'Employed full-time']"
   ]
  },
  {
   "cell_type": "code",
   "execution_count": 164,
   "metadata": {
    "scrolled": true
   },
   "outputs": [
    {
     "data": {
      "text/plain": [
       "Developer, full-stack                            31.006256\n",
       "Developer, back-end                              28.035188\n",
       "Developer, front-end                             16.651885\n",
       "Developer, desktop or enterprise applications    10.419713\n",
       "Developer, mobile                                 8.480548\n",
       "DevOps specialist                                 6.942880\n",
       "System administrator                              5.221841\n",
       "Database administrator                            4.991730\n",
       "Developer, embedded applications or devices       4.277428\n",
       "Engineer, data                                    4.145593\n",
       "Data scientist or machine learning specialist     4.016156\n",
       "Engineering manager                               3.849565\n",
       "Designer                                          3.530765\n",
       "Developer, QA or test                             3.482826\n",
       "Data or business analyst                          3.425298\n",
       "Other (please specify):                           3.126873\n",
       "Academic researcher                               2.631894\n",
       "Product manager                                   2.508449\n",
       "Engineer, site reliability                        2.410173\n",
       "Educator                                          1.868453\n",
       "Scientist                                         1.860064\n",
       "Student                                           1.758192\n",
       "Senior Executive (C-Suite, VP, etc.)              1.667106\n",
       "Developer, game or graphics                       1.529279\n",
       "Marketing or sales professional                   0.393106\n",
       "dtype: float64"
      ]
     },
     "execution_count": 164,
     "metadata": {},
     "output_type": "execute_result"
    }
   ],
   "source": [
    "((split_multicolumn(fullemp.DevType)).sum().sort_values(ascending=False) / 83438 )* 100"
   ]
  },
  {
   "cell_type": "markdown",
   "metadata": {},
   "source": [
    "Fullstack development which is the most selected job role is also the role with the highest number of employed developers with a record of **31%**. The next that follows is the `Backend development` role with a percentage of **28%**. \n",
    "\n",
    "*Being a fullstack developer will give you and edge and a higher chance of employment.*"
   ]
  },
  {
   "cell_type": "markdown",
   "metadata": {},
   "source": [
    "### **(3)  What developers role has the highest `unemployment` rate**?"
   ]
  },
  {
   "cell_type": "markdown",
   "metadata": {},
   "source": [
    "We have developers `who are not employed but are looking for jobs`. Lets see what role has the highest unemployement rate in the tech world."
   ]
  },
  {
   "cell_type": "code",
   "execution_count": 165,
   "metadata": {},
   "outputs": [],
   "source": [
    "fullemp = fulldf[fulldf['Employment'] == 'Not employed, but looking for work']"
   ]
  },
  {
   "cell_type": "code",
   "execution_count": 168,
   "metadata": {
    "scrolled": true
   },
   "outputs": [
    {
     "data": {
      "text/plain": [
       "Student                                          1181\n",
       "Developer, full-stack                             815\n",
       "Developer, back-end                               711\n",
       "Developer, front-end                              607\n",
       "Developer, mobile                                 350\n",
       "Other (please specify):                           273\n",
       "Developer, desktop or enterprise applications     250\n",
       "Designer                                          188\n",
       "System administrator                              160\n",
       "Data scientist or machine learning specialist     153\n",
       "Developer, game or graphics                       143\n",
       "Academic researcher                               119\n",
       "Data or business analyst                          116\n",
       "Database administrator                            108\n",
       "Developer, embedded applications or devices       105\n",
       "Educator                                           92\n",
       "Engineer, data                                     80\n",
       "Scientist                                          74\n",
       "Developer, QA or test                              68\n",
       "DevOps specialist                                  66\n",
       "Product manager                                    54\n",
       "Engineer, site reliability                         40\n",
       "Engineering manager                                36\n",
       "Marketing or sales professional                    27\n",
       "Senior Executive (C-Suite, VP, etc.)               24\n",
       "dtype: int64"
      ]
     },
     "execution_count": 168,
     "metadata": {},
     "output_type": "execute_result"
    }
   ],
   "source": [
    "(split_multicolumn(fullemp.DevType)).sum().sort_values(ascending=False)"
   ]
  },
  {
   "cell_type": "markdown",
   "metadata": {},
   "source": [
    "We can see that **students** who are also looking for a job are the most unemployed. This is because some tech companies wants a graduate or lets say an individual who is going to give maximum attention to the job and not someone who is running another program which could be a minus for the organisation.\n",
    "\n",
    "Why is `fullstack development` the next in line?\n",
    "\n",
    "> The greater the population of individuals who have aquired this skill the grater the competition. \n"
   ]
  },
  {
   "cell_type": "markdown",
   "metadata": {},
   "source": [
    "### (4) How essential is getting a `masters degree` to become an data scientist?"
   ]
  },
  {
   "cell_type": "markdown",
   "metadata": {},
   "source": [
    "Its said that a masters degree is advantageous to becoming a data scientist. Lets find out if its really true."
   ]
  },
  {
   "cell_type": "code",
   "execution_count": 180,
   "metadata": {},
   "outputs": [],
   "source": [
    "ds_len = fulldf[fulldf['Data scientist or machine learning specialist'] == True]"
   ]
  },
  {
   "cell_type": "code",
   "execution_count": 182,
   "metadata": {
    "scrolled": false
   },
   "outputs": [
    {
     "data": {
      "text/plain": [
       "'4221'"
      ]
     },
     "execution_count": 182,
     "metadata": {},
     "output_type": "execute_result"
    }
   ],
   "source": [
    "str(len(ds_len))"
   ]
  },
  {
   "cell_type": "markdown",
   "metadata": {},
   "source": [
    "**We have 4221 individuals who have chosen data science as their job option**"
   ]
  },
  {
   "cell_type": "markdown",
   "metadata": {},
   "source": [
    "Q1. How many has a masters degree?"
   ]
  },
  {
   "cell_type": "code",
   "execution_count": 183,
   "metadata": {},
   "outputs": [
    {
     "data": {
      "text/plain": [
       "array(['Secondary school (e.g. American high school, German Realschule or Gymnasium, etc.)',\n",
       "       'Bachelor’s degree (B.A., B.S., B.Eng., etc.)',\n",
       "       'Master’s degree (M.A., M.S., M.Eng., MBA, etc.)',\n",
       "       'Other doctoral degree (Ph.D., Ed.D., etc.)',\n",
       "       'Some college/university study without earning a degree',\n",
       "       'Something else', 'Professional degree (JD, MD, etc.)',\n",
       "       'Primary/elementary school', 'Associate degree (A.A., A.S., etc.)',\n",
       "       nan], dtype=object)"
      ]
     },
     "execution_count": 183,
     "metadata": {},
     "output_type": "execute_result"
    }
   ],
   "source": [
    "survey_raw_df.EdLevel.unique()"
   ]
  },
  {
   "cell_type": "code",
   "execution_count": 187,
   "metadata": {},
   "outputs": [],
   "source": [
    "masters_df = survey_raw_df[survey_raw_df['EdLevel'] == \"Master’s degree (M.A., M.S., M.Eng., MBA, etc.)\"]"
   ]
  },
  {
   "cell_type": "code",
   "execution_count": 191,
   "metadata": {},
   "outputs": [
    {
     "name": "stdout",
     "output_type": "stream",
     "text": [
      "1740 Data scientists have a masters degree\n"
     ]
    }
   ],
   "source": [
    "print(str(((split_multicolumn(masters_df.DevType)).sum().sort_values(ascending=False))[6])+\" Data scientists have a masters degree\")"
   ]
  },
  {
   "cell_type": "markdown",
   "metadata": {},
   "source": [
    "Thats to say **41%** of data scientists have a masters degree. \n",
    "\n",
    "\n",
    "This is a large Percentage. So it will be advisable to get a masters degree as a data scientist"
   ]
  },
  {
   "cell_type": "markdown",
   "metadata": {},
   "source": [
    "## Inferences and Conclusion\n",
    "\n",
    "We've drawn many inferences from the survey. Here's a summary of a few of them:\n",
    "\n",
    "- Based on the survey respondents' demographics, we can infer that the survey is somewhat representative of the overall programming community. However, it has fewer responses from programmers in non-English-speaking countries and women & non-binary genders.\n",
    "\n",
    "- The programming community is not as diverse as it can be. Although things are improving, we should make more efforts to support & encourage underrepresented communities, whether in terms of age, country, race, gender, or otherwise.\n",
    "\n",
    "- Although most programmers hold a college degree, a reasonably large percentage learn and are learning how to code **using online resourses**. Hence, a computer science degree or any major isn't the only best place for learning to code or building a career in programming.\n",
    "\n",
    "- A significant percentage of programmers either work full-time or as freelancers, which can be a great way to break into the field, especially when you're just getting started.\n",
    "\n",
    "- Being a fullstack programmer can open you to a lot of job oppurtunites but also it's competitive due to the multitude with such skills.\n",
    "\n",
    "- A little percentage of about `32%` of programmers worldwide seem to have a mental stress this denpends on individuals them self.\n",
    "\n",
    "- You can learn and start programming professionally at any age but there is greater advantage for people who start early."
   ]
  },
  {
   "cell_type": "markdown",
   "metadata": {},
   "source": [
    "## Refrences and future survey"
   ]
  },
  {
   "cell_type": "markdown",
   "metadata": {},
   "source": [
    "We Thank Jovian.ml for this Course and also for the opendata set library.\n",
    "\n",
    "Future survey -> Stack_Overflow_Annual_Developer_Survey_2022"
   ]
  },
  {
   "cell_type": "code",
   "execution_count": null,
   "metadata": {},
   "outputs": [
    {
     "data": {
      "application/javascript": [
       "window.require && require([\"base/js/namespace\"],function(Jupyter){Jupyter.notebook.save_checkpoint()})"
      ],
      "text/plain": [
       "<IPython.core.display.Javascript object>"
      ]
     },
     "metadata": {},
     "output_type": "display_data"
    }
   ],
   "source": [
    "jovian.commit()"
   ]
  },
  {
   "cell_type": "code",
   "execution_count": null,
   "metadata": {},
   "outputs": [],
   "source": []
  }
 ],
 "metadata": {
  "kernelspec": {
   "display_name": "Python 3",
   "language": "python",
   "name": "python3"
  },
  "language_info": {
   "codemirror_mode": {
    "name": "ipython",
    "version": 3
   },
   "file_extension": ".py",
   "mimetype": "text/x-python",
   "name": "python",
   "nbconvert_exporter": "python",
   "pygments_lexer": "ipython3",
   "version": "3.8.5"
  }
 },
 "nbformat": 4,
 "nbformat_minor": 4
}
